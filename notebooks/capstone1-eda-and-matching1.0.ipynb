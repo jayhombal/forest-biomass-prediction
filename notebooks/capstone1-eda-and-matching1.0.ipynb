{
 "cells": [
  {
   "cell_type": "markdown",
   "source": [
    "# Capstone Project:\n",
    "\n",
    "** Pual Hicks, Francisco Estrada, Jay Hombal**\n",
    "\n",
    "## Overview:\n",
    "Today, Humanity is facing unprecedented challenge of global warming because of man made greenhouse gas (CHG) emissions. Both developed and developing nations around the world have come together to fight this existential threat to Humanity. The Climate change is a major target for the Biden administration (and other countries).\n",
    "\n",
    "Many startup companies (Pachama, Indigo, ClimateCorp) backed by major investors are starting to work in this area. California has started its cap-and-trade program since 2013. This project aims at using high resolution remote sensing datasets to create carbon stock maps for a wide range of forests in the United States.\n",
    "\n",
    "The adoption of renewable sources of energy (zero carbon), carbon capture and storage (CCS) and Carbon offsetting are some of the options to address climate change. The carbon credits, aka carbon offset schemes, is a voluntary form of carbon pricing, allows individuals and companies to invest in environmental projects worldwide to compensate for the greenhouse gas(GHG) emissions they produce by investing in renewable energy sources or reducing (such as reforestation) GHG emissions. The Carbon credits markets aim at reducing the emission of greenhouse gases, and allow\n",
    "emitters to offset their emission by purchasing carbon credits.\n",
    "\n",
    "Forests are a significant player in absorbing carbon dioxide (photosynthesis) and storing CO2 in their wood tissues (biomass). Accurate quantification of how much carbon forest stores is essential to the success of the carbon market.\n",
    "\n",
    "## Problem Definition:\n",
    "Our main goal is to develop a predictive model to estimate biomass for tree species in a wide variety of forest types to serve as the foundation for awarding carbon credit to individual entities (states, corporations, organizations, individual global citizens, etc.). The purpose is to provide a scientific, validated basis for the credit determinations that can be numerically assigned from the biomass estimates to carbon credits in a dynamical carbon market.  \n",
    "\n",
    "## Data:\n",
    "\n",
    "__1. What is the format of your data?__\n",
    "     \n",
    "The the source dataset includes  __csv files__ for 2018 SCBI Forest-GEO ground-level data and 2019 National Ecological Observatory Network’s(NEON), Airborne Observatory Program (AOP) Lidar Data, from which we create an aggregate dataset.\n",
    "\n",
    "\n",
    "__SCBI Forest-Geo 2018 Census Data__\n",
    "\n",
    "The Smithsonian Conservation Biology Institute (SCBI) large forest dynamics plot is located at the Smithsonian’s National Zoo and Conservation Biology Institute in Front Royal, VA, adjacent to the northern end of Shenandoah National Park. The plot is located at the intersection of three of the major physiographic provinces of the eastern US: the Blue Ridge, Ridge and Valley, and Piedmont provinces. The forest type is typical mature secondary eastern mixed deciduous forest, with a canopy dominated by tulip poplar (Liriodendron tulipifera), oaks (Quercus spp.), and hickories (Carya spp.), and an understory composed mainly of spicebush (Lindera benzoin), paw-paw (Asimina triloba), American hornbeam (Carpinus caroliniana), and witch hazel (Hamamelis virginiana).  \n",
    "\n",
    "The SCBI forest plot is 25.6 ha (640 x 400 m), including a 4-ha fenced exclosure where white-tailed deer have been excluded since 1990, as well as three 1-ha Smithsonian Monitoring and Assessment of Biodiversity Program (SI-MAB) sites, with some sites surveyed several times since 1990.  Initial tree tagging and measurement of the full ForestGEO plot occurred in 2008, and the installation finished in 2009. Recensuses have occurred in 2013 and 2018. In 2008, there were 40,411 stems ≥1 cm dbh, representing 62 species, 38 genera and 28 families. In addition, 7 species of woody vines and ca.250 species of herbaceous plants have been identified. \n",
    "\n",
    "The census 3 (2018) at SCBI data have been checked and corrected after a tree survey is finished in a ForestGEO plot.\n",
    "\n",
    "**Reference:** \\url{https://github.com/SCBI-ForestGEO/SCBI-ForestGEO-Data/tree/master/tree_main_census}\n",
    "\n",
    "\n",
    "__The 2019 Neon Crown dataset__ \n",
    "\n",
    "The 2019 NeonTreeCrowns dataset is a set of individual level crown estimates for each rectangular bounding box crown prediction includes height, crown area, and spatial location of trees at the site SCBI.\n",
    "This data is surveyed by the National Ecological Observation Network’s Airborne Observation Platform. \n",
    "\n",
    "The predictions are also available as a single csv for each file. All available tiles for that site and year are combined into one large site. These data are not projected, but contain the utm coordinates for each bounding box (left, bottom, right, top). For both file types the following fields are available:\n",
    "\n",
    "**Reference:** \\url{https://zenodo.org/record/3765872#.YPygfXVKgUF}\n",
    "\n",
    "---\n",
    "\n",
    "__2. What is the unit of observation? What component of the data indicates the source of a given observation?__\n",
    "\n",
    "In the 2018 SCBI census dataset, the __unit of observation uniquely identifies a tree and tree stems__. And each tree has a diameter at the breast height, species, height of measurement, \n",
    "status, UTM, latitude, and longitudes features are captured.\n",
    "\n",
    "In the 2019 Neon Crown dataset, the __unit of observation is also a tree__. And each tree has features such as bounding box UTM coordinates, area, height, score, and the geo_index of the plot since the Noen dataset is Lidar data measured from the National Ecological Observation Network’s Airborne Observation Platform.\n",
    "\n",
    "__3. What are the features in your data?__\n",
    "\n",
    "The following section captures the data types (metadata) for each feature/field in the 2018 and 2019 datasets.\n",
    "\n",
    "__MetaData__\n",
    "\n",
    "Field |Description |Units/Format\n",
    "-----|-----|----- \n",
    "treeID|Unique Tree identifier in CTFS Database (useful for matching trees)|Int\n",
    "stemID|Unique Tree identifier in CTFS Database (useful for matching stems)|Int\n",
    "tag|Unique tree identifier number corresponding to a metal tag of a given tree within the ForestGEO plot|Int\n",
    "stemtag|The number of the stem, if present|Int\n",
    "sp|The species mnemonic|string\n",
    "dbh|Diameter at breast height as ForestGEO census 2013|cm\n",
    "hom|The height of measure|Numeric\n",
    "ExactDate|Date of observation|MM/DD/YEAR\n",
    "status| The tree status, A- alive, D-dead, G-lost_stem, mission or prior|string\n",
    "codes| codes for measurement as recorded in the field (census codes)|string\n",
    "NAD83_X|Tree loc data - NAD UTM X Coodrinate|meters\n",
    "NAD83_Y|Tree loc data - NAD UTM Y Coodrinate|meters\n",
    "lat|Tree loc data - latitude|degree\n",
    "long|Tree loc data - longitude|degree\n",
    "\n",
    "__Tree 'census' codes__\n",
    "\n",
    "Field |Description \n",
    "-----|-----\n",
    "B| Large Buttress, used ladder to measure\n",
    "M| Multiple Stems\n",
    "A| pom at alternate height\n",
    "I| Irregular step\n",
    "P| Any problem require further attention\n",
    "L| Stem leaning\n",
    "Q| Stem broken above breast height\n",
    "X| Stem broken below breast height\n",
    "C| pom has changed\n",
    "Y| prostrate stem\n",
    "R| Main stem broken, resprout\n",
    "DS| Dead, stem standing\n",
    "DC| Dead, stem broken\n",
    "DT| Dead, tag only found\n",
    "DN| presumed Dead\n",
    "\n",
    "__NEON 2019 Lidar Data__\n",
    "\n",
    "\n",
    "Field |Description |Units/Format\n",
    "-----|-----|----- \n",
    "left| The left UTM X coordinate of the bounding box| meters\n",
    "bottom| The bottom UTM Y coordinate of the bounding box| meters\n",
    "right |The Top UTM X coordinate of the bounding box| meters\n",
    "top|The Top UTM Y coordinate of the bounding box| meters\n",
    "Height|The Crown height is defined as the 99th quartile of all canopy height pixels from a LiDAR height model (ID: DP3.30015.001)| meters\n",
    "Area|The crown area- the rectangular bounding box|m2\n",
    "Label|All data in this release are \"Tree\"|string\n",
    "Score|The confidence score from the DeepForest deep learning algorithm. The score ranges from 0 (low confidence) to 1 (high confidence)|percent\n",
    "geo_index|plot UTM geo_index|string\n",
    "\n",
    "\n",
    "* We are reading only the features applicable to the project for memory effeciency.\n",
    "\n",
    "__4. Where is the data being stored?__\n",
    "\n",
    "We download the source data is online at these links -\n",
    "\n",
    "1. 2019 SCBI Census Dataset: \\url{https://raw.githubusercontent.com/SCBI-ForestGEO/SCBI-ForestGEO-Data/master/spatial_data/UTM%20coordinates/scbi_stem_utm_lat_long_2018.csv}\n",
    "\n",
    "2. 2019 Neon Crown Dataset: \\url{https://zenodo.org/record/3765872/files/SCBI_2019.csv?download=1}\n",
    "\n",
    "We download the dataset directly from the above-noted HTTP links. Both data sources are cleansed, filtered, and analyzed before creating the final_ __merged_2018_2019_scbi.csv__ file.   \n",
    "\n",
    "The merged file is stored at \\url{https://github.com/mh4ey/capstone}\n",
    "\n",
    "The merged file contains the significant features used in the computation of Above Ground Biomass (AGG).\n",
    "\n",
    "__5. How are you working with this data?__\n",
    "\n",
    "__Cleaning Dataset__\n",
    "\n",
    "We first cleansed the 2018 dataset to remove dead, broken trees and tree stems. Next, we need to merge the ground-based 2018 SCBI census dataset and the 2019 Neon Crown dataset based on the UTM coordinates \n",
    "for the trees in each dataset. \n",
    "\n",
    "The 2019 Neon Crown dataset is the aerial dataset and does not have the treeID uniquely identifying the trees.\n",
    "\n",
    "So, we will use distance-based matching algorithms (Euclidian distance). However, there is significant uncertainty in the matching algorithm. We also know that the small trees measured from the ground are not visible in the aerial dataset, and large tree crowns often cover them.\n",
    "\n",
    "We will try three different filtering options for the 2018 SCBI census dataset to account for the uncertainty in the matching algorithm.\n",
    "\n",
    "1. Filter trees less than 10 meters from the 2018 SCBI census dataset before matching with the 2019 Neon crown dataset.\n",
    "1. Filter trees less than 15 meters from the 2018 SCBI census dataset before matching with the 2019 Neon crown dataset.\n",
    "1. Filter trees less than 20 meters from the 2018 SCBI census dataset before matching with the 2019 Neon crown dataset.\n",
    "\n",
    "__Calcuate  Above Ground Biomass (AGB) in Kilograms__\n",
    "\n",
    "This semester, we only focus on calculating AGB after filtering all trees 10 meters or less from the 2018 SCBI census dataset. We will consider the other two filtering options noted above in the final semester.\n",
    "\n",
    "Then using the R-library, 'allodb’, we calculate the above-ground biomass in kilograms. \n",
    "\n",
    "The feature 'biomass' will be included as the response variable for the model. Aggregating aerial (including LiDAR, hyper-spectral, and camera) and ground-level data will require us to calculate geo-coordinates and merge the tree data from both datasets by latitude and longitude or UTM coordinates using a bounding box.  \n",
    "\n",
    "__Next Steps in Final Semester__\n",
    "\n",
    "Using the cleansed dataset, we aim to create ML predictive models to predict above ground Biomass in Kg for the forest site Smithsonian Conservation Biology Institute (SCBI) ForestGEO Data. And then calibrate the model by applying data from few other sites. Finally, we apply the corrected algorithm to other regions in the United States."
   ],
   "metadata": {}
  },
  {
   "cell_type": "code",
   "execution_count": 104,
   "source": [
    "import numpy as np\n",
    "import pandas as pd\n",
    "from uuid import uuid4\n",
    "\n",
    "import matplotlib.pyplot as plt\n",
    "import seaborn as sns\n",
    "import os\n",
    "sns.set_context('paper', font_scale=1.4)\n",
    "\n",
    "%matplotlib inline\n",
    "pd.set_option('display.max_columns', None)\n",
    "pd.set_option('display.max_rows', None)\n",
    "pd.set_option(\"precision\", 7)"
   ],
   "outputs": [],
   "metadata": {}
  },
  {
   "cell_type": "markdown",
   "source": [
    "#### Load 2018 Census Data"
   ],
   "metadata": {}
  },
  {
   "cell_type": "code",
   "execution_count": 105,
   "source": [
    "scbi_2018_filename = 'https://raw.githubusercontent.com/SCBI-ForestGEO/SCBI-ForestGEO-Data/master/spatial_data/UTM%20coordinates/scbi_stem_utm_lat_long_2018.csv'\n",
    "scbi_census_2018 = pd.read_csv(scbi_2018_filename, usecols=['treeID', 'stemID', 'sp',\n",
    "       'dbh', 'hom','codes', 'status', 'NAD83_X', 'NAD83_Y', 'lat', 'lon'])"
   ],
   "outputs": [],
   "metadata": {}
  },
  {
   "cell_type": "markdown",
   "source": [
    "__Rename Columns__"
   ],
   "metadata": {}
  },
  {
   "cell_type": "code",
   "execution_count": 106,
   "source": [
    "scbi_census_2018_columns = {\n",
    "    'treeID' : 'tree_id', \n",
    "    'stemID': 'stem_id', \n",
    "    'sp': 'species',\n",
    "    'dbh': 'stem_diameter', \n",
    "    'hom': 'point_of_measure', \n",
    "    'codes': 'census_codes', \n",
    "    'status' : 'tree_status', \n",
    "    'NAD83_X' : 'UTM_2018_X', \n",
    "    'NAD83_Y': 'UTM_2018_Y', \n",
    "    'lat': 'latitude', \n",
    "    'lon': 'longitude'\n",
    "}\n",
    "\n",
    "# sub select only columns we are interested in\n",
    "scbi_2018 = scbi_census_2018.rename(columns=scbi_census_2018_columns)"
   ],
   "outputs": [],
   "metadata": {}
  },
  {
   "cell_type": "code",
   "execution_count": 107,
   "source": [
    "scbi_2018.head()"
   ],
   "outputs": [
    {
     "output_type": "execute_result",
     "data": {
      "text/plain": [
       "   tree_id  stem_id species  stem_diameter  point_of_measure census_codes  \\\n",
       "0        1        1    libe           65.0               1.3            M   \n",
       "1        2        2    libe           21.0               1.3            M   \n",
       "2        3        3    libe           32.0               1.3           DS   \n",
       "3        4        4    nysy          142.0               1.3            M   \n",
       "4        5        5    havi           96.0               1.3          M;P   \n",
       "\n",
       "  tree_status      UTM_2018_X     UTM_2018_Y    latitude   longitude  \n",
       "0           A  747387.5264559  4.3085795e+06  38.8912770 -78.1476714  \n",
       "1           A  747401.4499056  4.3085657e+06  38.8911491 -78.1475160  \n",
       "2           G  747389.9459971  4.3087037e+06  38.8923941 -78.1475988  \n",
       "3           A  747389.7762816  4.3089352e+06  38.8944773 -78.1475173  \n",
       "4           A  747384.7942993  4.3089429e+06  38.8945488 -78.1475719  "
      ],
      "text/html": [
       "<div>\n",
       "<style scoped>\n",
       "    .dataframe tbody tr th:only-of-type {\n",
       "        vertical-align: middle;\n",
       "    }\n",
       "\n",
       "    .dataframe tbody tr th {\n",
       "        vertical-align: top;\n",
       "    }\n",
       "\n",
       "    .dataframe thead th {\n",
       "        text-align: right;\n",
       "    }\n",
       "</style>\n",
       "<table border=\"1\" class=\"dataframe\">\n",
       "  <thead>\n",
       "    <tr style=\"text-align: right;\">\n",
       "      <th></th>\n",
       "      <th>tree_id</th>\n",
       "      <th>stem_id</th>\n",
       "      <th>species</th>\n",
       "      <th>stem_diameter</th>\n",
       "      <th>point_of_measure</th>\n",
       "      <th>census_codes</th>\n",
       "      <th>tree_status</th>\n",
       "      <th>UTM_2018_X</th>\n",
       "      <th>UTM_2018_Y</th>\n",
       "      <th>latitude</th>\n",
       "      <th>longitude</th>\n",
       "    </tr>\n",
       "  </thead>\n",
       "  <tbody>\n",
       "    <tr>\n",
       "      <th>0</th>\n",
       "      <td>1</td>\n",
       "      <td>1</td>\n",
       "      <td>libe</td>\n",
       "      <td>65.0</td>\n",
       "      <td>1.3</td>\n",
       "      <td>M</td>\n",
       "      <td>A</td>\n",
       "      <td>747387.5264559</td>\n",
       "      <td>4.3085795e+06</td>\n",
       "      <td>38.8912770</td>\n",
       "      <td>-78.1476714</td>\n",
       "    </tr>\n",
       "    <tr>\n",
       "      <th>1</th>\n",
       "      <td>2</td>\n",
       "      <td>2</td>\n",
       "      <td>libe</td>\n",
       "      <td>21.0</td>\n",
       "      <td>1.3</td>\n",
       "      <td>M</td>\n",
       "      <td>A</td>\n",
       "      <td>747401.4499056</td>\n",
       "      <td>4.3085657e+06</td>\n",
       "      <td>38.8911491</td>\n",
       "      <td>-78.1475160</td>\n",
       "    </tr>\n",
       "    <tr>\n",
       "      <th>2</th>\n",
       "      <td>3</td>\n",
       "      <td>3</td>\n",
       "      <td>libe</td>\n",
       "      <td>32.0</td>\n",
       "      <td>1.3</td>\n",
       "      <td>DS</td>\n",
       "      <td>G</td>\n",
       "      <td>747389.9459971</td>\n",
       "      <td>4.3087037e+06</td>\n",
       "      <td>38.8923941</td>\n",
       "      <td>-78.1475988</td>\n",
       "    </tr>\n",
       "    <tr>\n",
       "      <th>3</th>\n",
       "      <td>4</td>\n",
       "      <td>4</td>\n",
       "      <td>nysy</td>\n",
       "      <td>142.0</td>\n",
       "      <td>1.3</td>\n",
       "      <td>M</td>\n",
       "      <td>A</td>\n",
       "      <td>747389.7762816</td>\n",
       "      <td>4.3089352e+06</td>\n",
       "      <td>38.8944773</td>\n",
       "      <td>-78.1475173</td>\n",
       "    </tr>\n",
       "    <tr>\n",
       "      <th>4</th>\n",
       "      <td>5</td>\n",
       "      <td>5</td>\n",
       "      <td>havi</td>\n",
       "      <td>96.0</td>\n",
       "      <td>1.3</td>\n",
       "      <td>M;P</td>\n",
       "      <td>A</td>\n",
       "      <td>747384.7942993</td>\n",
       "      <td>4.3089429e+06</td>\n",
       "      <td>38.8945488</td>\n",
       "      <td>-78.1475719</td>\n",
       "    </tr>\n",
       "  </tbody>\n",
       "</table>\n",
       "</div>"
      ]
     },
     "metadata": {},
     "execution_count": 107
    }
   ],
   "metadata": {}
  },
  {
   "cell_type": "code",
   "execution_count": 108,
   "source": [
    "scbi_2018.info()"
   ],
   "outputs": [
    {
     "output_type": "stream",
     "name": "stdout",
     "text": [
      "<class 'pandas.core.frame.DataFrame'>\n",
      "RangeIndex: 72555 entries, 0 to 72554\n",
      "Data columns (total 11 columns):\n",
      " #   Column            Non-Null Count  Dtype  \n",
      "---  ------            --------------  -----  \n",
      " 0   tree_id           72555 non-null  int64  \n",
      " 1   stem_id           72555 non-null  int64  \n",
      " 2   species           72555 non-null  object \n",
      " 3   stem_diameter     54367 non-null  float64\n",
      " 4   point_of_measure  54369 non-null  float64\n",
      " 5   census_codes      56163 non-null  object \n",
      " 6   tree_status       72555 non-null  object \n",
      " 7   UTM_2018_X        72555 non-null  float64\n",
      " 8   UTM_2018_Y        72555 non-null  float64\n",
      " 9   latitude          72555 non-null  float64\n",
      " 10  longitude         72555 non-null  float64\n",
      "dtypes: float64(6), int64(2), object(3)\n",
      "memory usage: 6.1+ MB\n"
     ]
    }
   ],
   "metadata": {}
  },
  {
   "cell_type": "markdown",
   "source": [
    "__Observation:__\n",
    "\n",
    "__3.1 How many observations do you have? There might be multiple types of observations in your dataset?__\n",
    "\n",
    "The 2018 SCBI census ground data has 72555 observations and when loaded into jupyter notebook the pandas dataframe memory usage is about 6.1 MB"
   ],
   "metadata": {}
  },
  {
   "cell_type": "code",
   "execution_count": 109,
   "source": [
    "scbi_2018.isna().sum()"
   ],
   "outputs": [
    {
     "output_type": "execute_result",
     "data": {
      "text/plain": [
       "tree_id                 0\n",
       "stem_id                 0\n",
       "species                 0\n",
       "stem_diameter       18188\n",
       "point_of_measure    18186\n",
       "census_codes        16392\n",
       "tree_status             0\n",
       "UTM_2018_X              0\n",
       "UTM_2018_Y              0\n",
       "latitude                0\n",
       "longitude               0\n",
       "dtype: int64"
      ]
     },
     "metadata": {},
     "execution_count": 109
    }
   ],
   "metadata": {}
  },
  {
   "cell_type": "markdown",
   "source": [
    "__Observation:__\n",
    "The __stem_diamter, point of measure, tree_status, and census_code__ features have missing values.\n",
    "\n",
    "For this study we choose to drop all rows where these features are missing values."
   ],
   "metadata": {}
  },
  {
   "cell_type": "code",
   "execution_count": 110,
   "source": [
    "scbi_2018 = scbi_2018.dropna()"
   ],
   "outputs": [],
   "metadata": {}
  },
  {
   "cell_type": "markdown",
   "source": [
    "__Data Prepration:__\n",
    "\n",
    "The __tree_status, species and tree_status_codes__ are __categorical __ features__. So we will convert these features into pandas category type."
   ],
   "metadata": {}
  },
  {
   "cell_type": "code",
   "execution_count": 111,
   "source": [
    "scbi_2018[['tree_status']].assign(DFstatus=scbi_2018['tree_status'].astype('category'))\n",
    "scbi_2018[['species']].assign(sp = scbi_2018['species'].astype('category'))\n",
    "scbi_2018[['census_codes']].assign(status = scbi_2018['census_codes'].astype('category'))\n",
    "print(\"Converted DFstatus, sp and status columns to category\")"
   ],
   "outputs": [
    {
     "output_type": "stream",
     "name": "stdout",
     "text": [
      "Converted DFstatus, sp and status columns to category\n"
     ]
    }
   ],
   "metadata": {}
  },
  {
   "cell_type": "code",
   "execution_count": 112,
   "source": [
    "scbi_2018.describe()"
   ],
   "outputs": [
    {
     "output_type": "execute_result",
     "data": {
      "text/plain": [
       "             tree_id        stem_id  stem_diameter  point_of_measure  \\\n",
       "count  37976.0000000  37976.0000000  37976.0000000     37976.0000000   \n",
       "mean   25329.2788603  42417.1405888     40.7355962         1.2968441   \n",
       "std    14765.5761840  20185.2349597     89.7005931         0.0594796   \n",
       "min        1.0000000      1.0000000     10.0000000         0.0000000   \n",
       "25%    12368.7500000  25686.2500000     13.0000000         1.3000000   \n",
       "50%    26580.0000000  46239.5000000     18.0000000         1.3000000   \n",
       "75%    38512.0000000  59109.2500000     28.0000000         1.3000000   \n",
       "max    49305.0000000  72550.0000000   1533.0000000         1.8000000   \n",
       "\n",
       "           UTM_2018_X     UTM_2018_Y       latitude      longitude  \n",
       "count   37976.0000000  3.7976000e+04  37976.0000000  37976.0000000  \n",
       "mean   747603.4764391  4.3086435e+06     38.8917921    -78.1451613  \n",
       "std       113.4785358  1.3007055e+02      0.0011742      0.0013032  \n",
       "min    747371.9215751  4.3085067e+06     38.8905917    -78.1477164  \n",
       "25%    747522.8208859  4.3085533e+06     38.8909734    -78.1460867  \n",
       "50%    747614.3949493  4.3086014e+06     38.8914183    -78.1450463  \n",
       "75%    747699.5690097  4.3086836e+06     38.8921539    -78.1440627  \n",
       "max    747785.4110242  4.3091552e+06     38.8963784    -78.1430559  "
      ],
      "text/html": [
       "<div>\n",
       "<style scoped>\n",
       "    .dataframe tbody tr th:only-of-type {\n",
       "        vertical-align: middle;\n",
       "    }\n",
       "\n",
       "    .dataframe tbody tr th {\n",
       "        vertical-align: top;\n",
       "    }\n",
       "\n",
       "    .dataframe thead th {\n",
       "        text-align: right;\n",
       "    }\n",
       "</style>\n",
       "<table border=\"1\" class=\"dataframe\">\n",
       "  <thead>\n",
       "    <tr style=\"text-align: right;\">\n",
       "      <th></th>\n",
       "      <th>tree_id</th>\n",
       "      <th>stem_id</th>\n",
       "      <th>stem_diameter</th>\n",
       "      <th>point_of_measure</th>\n",
       "      <th>UTM_2018_X</th>\n",
       "      <th>UTM_2018_Y</th>\n",
       "      <th>latitude</th>\n",
       "      <th>longitude</th>\n",
       "    </tr>\n",
       "  </thead>\n",
       "  <tbody>\n",
       "    <tr>\n",
       "      <th>count</th>\n",
       "      <td>37976.0000000</td>\n",
       "      <td>37976.0000000</td>\n",
       "      <td>37976.0000000</td>\n",
       "      <td>37976.0000000</td>\n",
       "      <td>37976.0000000</td>\n",
       "      <td>3.7976000e+04</td>\n",
       "      <td>37976.0000000</td>\n",
       "      <td>37976.0000000</td>\n",
       "    </tr>\n",
       "    <tr>\n",
       "      <th>mean</th>\n",
       "      <td>25329.2788603</td>\n",
       "      <td>42417.1405888</td>\n",
       "      <td>40.7355962</td>\n",
       "      <td>1.2968441</td>\n",
       "      <td>747603.4764391</td>\n",
       "      <td>4.3086435e+06</td>\n",
       "      <td>38.8917921</td>\n",
       "      <td>-78.1451613</td>\n",
       "    </tr>\n",
       "    <tr>\n",
       "      <th>std</th>\n",
       "      <td>14765.5761840</td>\n",
       "      <td>20185.2349597</td>\n",
       "      <td>89.7005931</td>\n",
       "      <td>0.0594796</td>\n",
       "      <td>113.4785358</td>\n",
       "      <td>1.3007055e+02</td>\n",
       "      <td>0.0011742</td>\n",
       "      <td>0.0013032</td>\n",
       "    </tr>\n",
       "    <tr>\n",
       "      <th>min</th>\n",
       "      <td>1.0000000</td>\n",
       "      <td>1.0000000</td>\n",
       "      <td>10.0000000</td>\n",
       "      <td>0.0000000</td>\n",
       "      <td>747371.9215751</td>\n",
       "      <td>4.3085067e+06</td>\n",
       "      <td>38.8905917</td>\n",
       "      <td>-78.1477164</td>\n",
       "    </tr>\n",
       "    <tr>\n",
       "      <th>25%</th>\n",
       "      <td>12368.7500000</td>\n",
       "      <td>25686.2500000</td>\n",
       "      <td>13.0000000</td>\n",
       "      <td>1.3000000</td>\n",
       "      <td>747522.8208859</td>\n",
       "      <td>4.3085533e+06</td>\n",
       "      <td>38.8909734</td>\n",
       "      <td>-78.1460867</td>\n",
       "    </tr>\n",
       "    <tr>\n",
       "      <th>50%</th>\n",
       "      <td>26580.0000000</td>\n",
       "      <td>46239.5000000</td>\n",
       "      <td>18.0000000</td>\n",
       "      <td>1.3000000</td>\n",
       "      <td>747614.3949493</td>\n",
       "      <td>4.3086014e+06</td>\n",
       "      <td>38.8914183</td>\n",
       "      <td>-78.1450463</td>\n",
       "    </tr>\n",
       "    <tr>\n",
       "      <th>75%</th>\n",
       "      <td>38512.0000000</td>\n",
       "      <td>59109.2500000</td>\n",
       "      <td>28.0000000</td>\n",
       "      <td>1.3000000</td>\n",
       "      <td>747699.5690097</td>\n",
       "      <td>4.3086836e+06</td>\n",
       "      <td>38.8921539</td>\n",
       "      <td>-78.1440627</td>\n",
       "    </tr>\n",
       "    <tr>\n",
       "      <th>max</th>\n",
       "      <td>49305.0000000</td>\n",
       "      <td>72550.0000000</td>\n",
       "      <td>1533.0000000</td>\n",
       "      <td>1.8000000</td>\n",
       "      <td>747785.4110242</td>\n",
       "      <td>4.3091552e+06</td>\n",
       "      <td>38.8963784</td>\n",
       "      <td>-78.1430559</td>\n",
       "    </tr>\n",
       "  </tbody>\n",
       "</table>\n",
       "</div>"
      ]
     },
     "metadata": {},
     "execution_count": 112
    }
   ],
   "metadata": {}
  },
  {
   "cell_type": "markdown",
   "source": [
    "#### Load NEON Tree Crowns Dataset"
   ],
   "metadata": {}
  },
  {
   "cell_type": "code",
   "execution_count": 113,
   "source": [
    "scbi_2019_filename = 'https://zenodo.org/record/3765872/files/SCBI_2019.csv?download=1'\n",
    "scbi_2019_aop = pd.read_csv(scbi_2019_filename)"
   ],
   "outputs": [],
   "metadata": {}
  },
  {
   "cell_type": "markdown",
   "source": [
    "We are only interested in UTM coordinates left,bottom,right,top,score,lable,height and geo_index"
   ],
   "metadata": {}
  },
  {
   "cell_type": "code",
   "execution_count": 114,
   "source": [
    "scbi_2019_aop_columns = ['left', 'bottom', 'right', 'top', 'score',\n",
    "       'height', 'area', 'geo_index']\n",
    "scbi_2019 = scbi_2019_aop[scbi_2019_aop_columns]"
   ],
   "outputs": [],
   "metadata": {}
  },
  {
   "cell_type": "code",
   "execution_count": 115,
   "source": [
    "scbi_2019.head()"
   ],
   "outputs": [
    {
     "output_type": "execute_result",
     "data": {
      "text/plain": [
       "       left     bottom     right        top      score      height   area  \\\n",
       "0  749044.0  4304584.5  749053.6  4304594.1  0.8817180  25.3333000  92.16   \n",
       "1  749273.1  4304013.6  749282.1  4304022.9  0.8794504  21.8160007  83.70   \n",
       "2  749103.5  4304633.9  749112.2  4304644.4  0.8699396  13.6721999  91.35   \n",
       "3  749581.1  4304668.6  749590.1  4304679.0  0.8633375  27.0415005  93.60   \n",
       "4  749863.7  4304220.9  749871.1  4304228.4  0.8571851   4.7500000  55.50   \n",
       "\n",
       "        geo_index  \n",
       "0  749000_4304000  \n",
       "1  749000_4304000  \n",
       "2  749000_4304000  \n",
       "3  749000_4304000  \n",
       "4  749000_4304000  "
      ],
      "text/html": [
       "<div>\n",
       "<style scoped>\n",
       "    .dataframe tbody tr th:only-of-type {\n",
       "        vertical-align: middle;\n",
       "    }\n",
       "\n",
       "    .dataframe tbody tr th {\n",
       "        vertical-align: top;\n",
       "    }\n",
       "\n",
       "    .dataframe thead th {\n",
       "        text-align: right;\n",
       "    }\n",
       "</style>\n",
       "<table border=\"1\" class=\"dataframe\">\n",
       "  <thead>\n",
       "    <tr style=\"text-align: right;\">\n",
       "      <th></th>\n",
       "      <th>left</th>\n",
       "      <th>bottom</th>\n",
       "      <th>right</th>\n",
       "      <th>top</th>\n",
       "      <th>score</th>\n",
       "      <th>height</th>\n",
       "      <th>area</th>\n",
       "      <th>geo_index</th>\n",
       "    </tr>\n",
       "  </thead>\n",
       "  <tbody>\n",
       "    <tr>\n",
       "      <th>0</th>\n",
       "      <td>749044.0</td>\n",
       "      <td>4304584.5</td>\n",
       "      <td>749053.6</td>\n",
       "      <td>4304594.1</td>\n",
       "      <td>0.8817180</td>\n",
       "      <td>25.3333000</td>\n",
       "      <td>92.16</td>\n",
       "      <td>749000_4304000</td>\n",
       "    </tr>\n",
       "    <tr>\n",
       "      <th>1</th>\n",
       "      <td>749273.1</td>\n",
       "      <td>4304013.6</td>\n",
       "      <td>749282.1</td>\n",
       "      <td>4304022.9</td>\n",
       "      <td>0.8794504</td>\n",
       "      <td>21.8160007</td>\n",
       "      <td>83.70</td>\n",
       "      <td>749000_4304000</td>\n",
       "    </tr>\n",
       "    <tr>\n",
       "      <th>2</th>\n",
       "      <td>749103.5</td>\n",
       "      <td>4304633.9</td>\n",
       "      <td>749112.2</td>\n",
       "      <td>4304644.4</td>\n",
       "      <td>0.8699396</td>\n",
       "      <td>13.6721999</td>\n",
       "      <td>91.35</td>\n",
       "      <td>749000_4304000</td>\n",
       "    </tr>\n",
       "    <tr>\n",
       "      <th>3</th>\n",
       "      <td>749581.1</td>\n",
       "      <td>4304668.6</td>\n",
       "      <td>749590.1</td>\n",
       "      <td>4304679.0</td>\n",
       "      <td>0.8633375</td>\n",
       "      <td>27.0415005</td>\n",
       "      <td>93.60</td>\n",
       "      <td>749000_4304000</td>\n",
       "    </tr>\n",
       "    <tr>\n",
       "      <th>4</th>\n",
       "      <td>749863.7</td>\n",
       "      <td>4304220.9</td>\n",
       "      <td>749871.1</td>\n",
       "      <td>4304228.4</td>\n",
       "      <td>0.8571851</td>\n",
       "      <td>4.7500000</td>\n",
       "      <td>55.50</td>\n",
       "      <td>749000_4304000</td>\n",
       "    </tr>\n",
       "  </tbody>\n",
       "</table>\n",
       "</div>"
      ]
     },
     "metadata": {},
     "execution_count": 115
    }
   ],
   "metadata": {}
  },
  {
   "cell_type": "code",
   "execution_count": 116,
   "source": [
    "scbi_2019.info()"
   ],
   "outputs": [
    {
     "output_type": "stream",
     "name": "stdout",
     "text": [
      "<class 'pandas.core.frame.DataFrame'>\n",
      "RangeIndex: 2917297 entries, 0 to 2917296\n",
      "Data columns (total 8 columns):\n",
      " #   Column     Dtype  \n",
      "---  ------     -----  \n",
      " 0   left       float64\n",
      " 1   bottom     float64\n",
      " 2   right      float64\n",
      " 3   top        float64\n",
      " 4   score      float64\n",
      " 5   height     float64\n",
      " 6   area       float64\n",
      " 7   geo_index  object \n",
      "dtypes: float64(7), object(1)\n",
      "memory usage: 178.1+ MB\n"
     ]
    }
   ],
   "metadata": {}
  },
  {
   "cell_type": "markdown",
   "source": [
    "__Observation:__\n",
    "\n",
    "__3.2 How many observations do you have? There might be multiple types of observations in your dataset?__\n",
    "\n",
    "The 2019 NEON Tree Crowns dataset has 2917297 observations and when loaded into jupyter notebook the pandas dataframe memory usage is about 178.1+ MB"
   ],
   "metadata": {}
  },
  {
   "cell_type": "code",
   "execution_count": 117,
   "source": [
    "scbi_2019.isna().sum()"
   ],
   "outputs": [
    {
     "output_type": "execute_result",
     "data": {
      "text/plain": [
       "left         0\n",
       "bottom       0\n",
       "right        0\n",
       "top          0\n",
       "score        0\n",
       "height       0\n",
       "area         0\n",
       "geo_index    0\n",
       "dtype: int64"
      ]
     },
     "metadata": {},
     "execution_count": 117
    }
   ],
   "metadata": {}
  },
  {
   "cell_type": "code",
   "execution_count": 118,
   "source": [
    "scbi_2019.describe()"
   ],
   "outputs": [
    {
     "output_type": "execute_result",
     "data": {
      "text/plain": [
       "                left         bottom          right            top  \\\n",
       "count  2.9172970e+06  2.9172970e+06  2.9172970e+06  2.9172970e+06   \n",
       "mean   7.4710900e+05  4.3066724e+06  7.4711337e+05  4.3066768e+06   \n",
       "std    2.7997487e+03  2.8079013e+03  2.7996680e+03  2.8078969e+03   \n",
       "min    7.4200000e+05  4.3020000e+06  7.4200120e+05  4.3020011e+06   \n",
       "25%    7.4481170e+05  4.3042200e+06  7.4481660e+05  4.3042247e+06   \n",
       "50%    7.4728330e+05  4.3066191e+06  7.4728760e+05  4.3066238e+06   \n",
       "75%    7.4940410e+05  4.3090427e+06  7.4940840e+05  4.3090475e+06   \n",
       "max    7.5199870e+05  4.3119990e+06  7.5200000e+05  4.3120000e+06   \n",
       "\n",
       "               score         height           area  \n",
       "count  2.9172970e+06  2.9172970e+06  2.9172970e+06  \n",
       "mean   4.0742495e-01  2.0741513e+01  2.2987504e+01  \n",
       "std    1.3593587e-01  8.2084912e+00  2.3723085e+01  \n",
       "min    2.0000005e-01  3.0002000e+00  1.7000000e+00  \n",
       "25%    2.9251879e-01  1.5211500e+01  9.0000000e+00  \n",
       "50%    3.9614928e-01  2.1150500e+01  1.4760000e+01  \n",
       "75%    5.0443709e-01  2.6483200e+01  2.6520000e+01  \n",
       "max    9.2989784e-01  7.8994999e+01  3.9123000e+02  "
      ],
      "text/html": [
       "<div>\n",
       "<style scoped>\n",
       "    .dataframe tbody tr th:only-of-type {\n",
       "        vertical-align: middle;\n",
       "    }\n",
       "\n",
       "    .dataframe tbody tr th {\n",
       "        vertical-align: top;\n",
       "    }\n",
       "\n",
       "    .dataframe thead th {\n",
       "        text-align: right;\n",
       "    }\n",
       "</style>\n",
       "<table border=\"1\" class=\"dataframe\">\n",
       "  <thead>\n",
       "    <tr style=\"text-align: right;\">\n",
       "      <th></th>\n",
       "      <th>left</th>\n",
       "      <th>bottom</th>\n",
       "      <th>right</th>\n",
       "      <th>top</th>\n",
       "      <th>score</th>\n",
       "      <th>height</th>\n",
       "      <th>area</th>\n",
       "    </tr>\n",
       "  </thead>\n",
       "  <tbody>\n",
       "    <tr>\n",
       "      <th>count</th>\n",
       "      <td>2.9172970e+06</td>\n",
       "      <td>2.9172970e+06</td>\n",
       "      <td>2.9172970e+06</td>\n",
       "      <td>2.9172970e+06</td>\n",
       "      <td>2.9172970e+06</td>\n",
       "      <td>2.9172970e+06</td>\n",
       "      <td>2.9172970e+06</td>\n",
       "    </tr>\n",
       "    <tr>\n",
       "      <th>mean</th>\n",
       "      <td>7.4710900e+05</td>\n",
       "      <td>4.3066724e+06</td>\n",
       "      <td>7.4711337e+05</td>\n",
       "      <td>4.3066768e+06</td>\n",
       "      <td>4.0742495e-01</td>\n",
       "      <td>2.0741513e+01</td>\n",
       "      <td>2.2987504e+01</td>\n",
       "    </tr>\n",
       "    <tr>\n",
       "      <th>std</th>\n",
       "      <td>2.7997487e+03</td>\n",
       "      <td>2.8079013e+03</td>\n",
       "      <td>2.7996680e+03</td>\n",
       "      <td>2.8078969e+03</td>\n",
       "      <td>1.3593587e-01</td>\n",
       "      <td>8.2084912e+00</td>\n",
       "      <td>2.3723085e+01</td>\n",
       "    </tr>\n",
       "    <tr>\n",
       "      <th>min</th>\n",
       "      <td>7.4200000e+05</td>\n",
       "      <td>4.3020000e+06</td>\n",
       "      <td>7.4200120e+05</td>\n",
       "      <td>4.3020011e+06</td>\n",
       "      <td>2.0000005e-01</td>\n",
       "      <td>3.0002000e+00</td>\n",
       "      <td>1.7000000e+00</td>\n",
       "    </tr>\n",
       "    <tr>\n",
       "      <th>25%</th>\n",
       "      <td>7.4481170e+05</td>\n",
       "      <td>4.3042200e+06</td>\n",
       "      <td>7.4481660e+05</td>\n",
       "      <td>4.3042247e+06</td>\n",
       "      <td>2.9251879e-01</td>\n",
       "      <td>1.5211500e+01</td>\n",
       "      <td>9.0000000e+00</td>\n",
       "    </tr>\n",
       "    <tr>\n",
       "      <th>50%</th>\n",
       "      <td>7.4728330e+05</td>\n",
       "      <td>4.3066191e+06</td>\n",
       "      <td>7.4728760e+05</td>\n",
       "      <td>4.3066238e+06</td>\n",
       "      <td>3.9614928e-01</td>\n",
       "      <td>2.1150500e+01</td>\n",
       "      <td>1.4760000e+01</td>\n",
       "    </tr>\n",
       "    <tr>\n",
       "      <th>75%</th>\n",
       "      <td>7.4940410e+05</td>\n",
       "      <td>4.3090427e+06</td>\n",
       "      <td>7.4940840e+05</td>\n",
       "      <td>4.3090475e+06</td>\n",
       "      <td>5.0443709e-01</td>\n",
       "      <td>2.6483200e+01</td>\n",
       "      <td>2.6520000e+01</td>\n",
       "    </tr>\n",
       "    <tr>\n",
       "      <th>max</th>\n",
       "      <td>7.5199870e+05</td>\n",
       "      <td>4.3119990e+06</td>\n",
       "      <td>7.5200000e+05</td>\n",
       "      <td>4.3120000e+06</td>\n",
       "      <td>9.2989784e-01</td>\n",
       "      <td>7.8994999e+01</td>\n",
       "      <td>3.9123000e+02</td>\n",
       "    </tr>\n",
       "  </tbody>\n",
       "</table>\n",
       "</div>"
      ]
     },
     "metadata": {},
     "execution_count": 118
    }
   ],
   "metadata": {}
  },
  {
   "cell_type": "markdown",
   "source": [
    "---"
   ],
   "metadata": {}
  },
  {
   "cell_type": "markdown",
   "source": [
    "## Exploratory Data analysis: \n",
    "\n",
    "### 2018 SCBI Census Data\n",
    "\n",
    "In this section we try to discover and visualize the 2018 SCBI census ground data and the 2019 NEON tree crown AOP dataset, to get a general understanding of the data in both the datasets"
   ],
   "metadata": {}
  },
  {
   "cell_type": "code",
   "execution_count": 119,
   "source": [
    "plt.figure(figsize=(10,8))\n",
    "sns.countplot(data=scbi_2018, x='tree_status')\n",
    "plt.legend(loc=0)\n",
    "plt.ylabel('Tree count')\n",
    "plt.xlabel('Tree status')\n",
    "plt.title('Number of Trees by status')\n",
    "print()"
   ],
   "outputs": [
    {
     "output_type": "stream",
     "name": "stderr",
     "text": [
      "No handles with labels found to put in legend.\n"
     ]
    },
    {
     "output_type": "stream",
     "name": "stdout",
     "text": [
      "\n"
     ]
    },
    {
     "output_type": "display_data",
     "data": {
      "text/plain": [
       "<Figure size 720x576 with 1 Axes>"
      ],
      "image/png": "[encoded data removed]"
     },
     "metadata": {
      "needs_background": "light"
     }
    }
   ],
   "metadata": {}
  },
  {
   "cell_type": "markdown",
   "source": [
    "__Observation: Dead or broken trees and tree stems__\n",
    "\n",
    "Following are the valid tree_status values in the SCBI 2018 census dataset.\n",
    "    **'A'** - **alive**,\n",
    "    **'D'** - **dead**,\n",
    "    **'P'** - **Not in Census**,\n",
    "    **'G'** - **stem is gone**,  \n",
    "  \n",
    "__Note:__\n",
    "\n",
    "Since the primary goal of our project is to create a model to predict the __Above Ground Biomass (AGB)__, we will only consider trees and stems alive and drop all other trees and stems from the dataset."
   ],
   "metadata": {}
  },
  {
   "cell_type": "code",
   "execution_count": 120,
   "source": [
    "scbi_2018 = scbi_2018.query(\"tree_status not in ['D','G']\")\n",
    "scbi_2018[['tree_id','tree_status']]\\\n",
    "    .groupby('tree_status').count()"
   ],
   "outputs": [
    {
     "output_type": "execute_result",
     "data": {
      "text/plain": [
       "             tree_id\n",
       "tree_status         \n",
       "A              34859"
      ],
      "text/html": [
       "<div>\n",
       "<style scoped>\n",
       "    .dataframe tbody tr th:only-of-type {\n",
       "        vertical-align: middle;\n",
       "    }\n",
       "\n",
       "    .dataframe tbody tr th {\n",
       "        vertical-align: top;\n",
       "    }\n",
       "\n",
       "    .dataframe thead th {\n",
       "        text-align: right;\n",
       "    }\n",
       "</style>\n",
       "<table border=\"1\" class=\"dataframe\">\n",
       "  <thead>\n",
       "    <tr style=\"text-align: right;\">\n",
       "      <th></th>\n",
       "      <th>tree_id</th>\n",
       "    </tr>\n",
       "    <tr>\n",
       "      <th>tree_status</th>\n",
       "      <th></th>\n",
       "    </tr>\n",
       "  </thead>\n",
       "  <tbody>\n",
       "    <tr>\n",
       "      <th>A</th>\n",
       "      <td>34859</td>\n",
       "    </tr>\n",
       "  </tbody>\n",
       "</table>\n",
       "</div>"
      ]
     },
     "metadata": {},
     "execution_count": 120
    }
   ],
   "metadata": {}
  },
  {
   "cell_type": "markdown",
   "source": [
    "__Observation: The tree_census_codes feature identifies additional trees that are either dead or broken__\n",
    "\n",
    "So we drop any tree or stem with 'dead above 1.3m', 'dead standing', 'stem fallen', 'dead only tag found' and 'presumed dead' codes"
   ],
   "metadata": {}
  },
  {
   "cell_type": "code",
   "execution_count": 121,
   "source": [
    "\n",
    "SCBI_STATUS_CODES = {\n",
    "    'A' : 'alternate POM (point of measure differnt than 1.3)',\n",
    "    'B' : 'stem broken above 1.3m',\n",
    "    'C' : 'dead above 1.3m',\n",
    "    'F' : 'inside deer fence',\n",
    "    'G' : 'ID to Genius certian',\n",
    "    'I' : 'stem irrigular where measured',\n",
    "    'J' : 'bent',\n",
    "    'L' : 'leaning stem',\n",
    "    'M' : 'Multiple stem plant',\n",
    "    'X' : 'stem broken below 1.3 m',\n",
    "    'P' : 'prostrate stem (allmost parallel to the ground)',\n",
    "    'S' : 'secondary stem',\n",
    "    'TR' : 'tag removed',\n",
    "    'WR' : 'wire removed',\n",
    "    'DS' : 'dead stem standing',\n",
    "    'DC' : 'dead stem fallen',\n",
    "    'DT' : 'dead only tag found',\n",
    "    'DN' : 'presumed dead no tag or stem',\n",
    "    'main' : 'main stem',  \n",
    "}"
   ],
   "outputs": [],
   "metadata": {}
  },
  {
   "cell_type": "markdown",
   "source": [
    "Let us examine if the 2018 SCBI census dataset has the census codes that mark the tree observation as either dead or broken."
   ],
   "metadata": {}
  },
  {
   "cell_type": "code",
   "execution_count": 122,
   "source": [
    "dead_tree_or_stem_census_codes = ['B','C', 'X' 'DS*', 'DC','DT', 'DN']"
   ],
   "outputs": [],
   "metadata": {}
  },
  {
   "cell_type": "code",
   "execution_count": 123,
   "source": [
    "scbi_2018['census_codes'].isin(dead_tree_or_stem_census_codes).value_counts()"
   ],
   "outputs": [
    {
     "output_type": "execute_result",
     "data": {
      "text/plain": [
       "False    34771\n",
       "True        88\n",
       "Name: census_codes, dtype: int64"
      ]
     },
     "metadata": {},
     "execution_count": 123
    }
   ],
   "metadata": {}
  },
  {
   "cell_type": "code",
   "execution_count": 124,
   "source": [
    "scbi_2018[scbi_2018['census_codes'].isin(dead_tree_or_stem_census_codes)].sample(10)"
   ],
   "outputs": [
    {
     "output_type": "execute_result",
     "data": {
      "text/plain": [
       "       tree_id  stem_id species  stem_diameter  point_of_measure census_codes  \\\n",
       "1415      1416     1416    caca          101.0               1.3            B   \n",
       "15019    15020    15020    nysy           81.0               1.3            B   \n",
       "50340    36516    50341    libe           11.0               1.3            C   \n",
       "21157    21158    21158    nysy          196.0               1.3            B   \n",
       "6946      6947     6947    cato          210.0               1.3            B   \n",
       "30572    30573    30573    astr           42.0               1.3            B   \n",
       "61429    40407    61430    astr           14.0               1.3            B   \n",
       "27034    27035    27035    astr           26.0               1.3            B   \n",
       "48971    35443    48972    libe           10.0               1.3            C   \n",
       "1526      1527     1527    caca           90.0               1.3            B   \n",
       "\n",
       "      tree_status      UTM_2018_X     UTM_2018_Y    latitude   longitude  \n",
       "1415            A  747394.0475885  4.3086649e+06  38.8920436 -78.1475655  \n",
       "15019           A  747576.4745831  4.3089805e+06  38.8948328 -78.1453508  \n",
       "50340           A  747748.6037134  4.3085890e+06  38.8912606 -78.1435096  \n",
       "21157           A  747666.8316856  4.3086127e+06  38.8914970 -78.1444428  \n",
       "6946            A  747471.1952820  4.3091034e+06  38.8959686 -78.1465190  \n",
       "30572           A  747766.0104994  4.3090027e+06  38.8949793 -78.1431599  \n",
       "61429           A  747579.3479047  4.3088351e+06  38.8935236 -78.1453701  \n",
       "27034           A  747729.4981091  4.3089295e+06  38.8943310 -78.1436068  \n",
       "48971           A  747739.9914700  4.3085765e+06  38.8911505 -78.1436133  \n",
       "1526            A  747384.2781803  4.3087583e+06  38.8928869 -78.1476444  "
      ],
      "text/html": [
       "<div>\n",
       "<style scoped>\n",
       "    .dataframe tbody tr th:only-of-type {\n",
       "        vertical-align: middle;\n",
       "    }\n",
       "\n",
       "    .dataframe tbody tr th {\n",
       "        vertical-align: top;\n",
       "    }\n",
       "\n",
       "    .dataframe thead th {\n",
       "        text-align: right;\n",
       "    }\n",
       "</style>\n",
       "<table border=\"1\" class=\"dataframe\">\n",
       "  <thead>\n",
       "    <tr style=\"text-align: right;\">\n",
       "      <th></th>\n",
       "      <th>tree_id</th>\n",
       "      <th>stem_id</th>\n",
       "      <th>species</th>\n",
       "      <th>stem_diameter</th>\n",
       "      <th>point_of_measure</th>\n",
       "      <th>census_codes</th>\n",
       "      <th>tree_status</th>\n",
       "      <th>UTM_2018_X</th>\n",
       "      <th>UTM_2018_Y</th>\n",
       "      <th>latitude</th>\n",
       "      <th>longitude</th>\n",
       "    </tr>\n",
       "  </thead>\n",
       "  <tbody>\n",
       "    <tr>\n",
       "      <th>1415</th>\n",
       "      <td>1416</td>\n",
       "      <td>1416</td>\n",
       "      <td>caca</td>\n",
       "      <td>101.0</td>\n",
       "      <td>1.3</td>\n",
       "      <td>B</td>\n",
       "      <td>A</td>\n",
       "      <td>747394.0475885</td>\n",
       "      <td>4.3086649e+06</td>\n",
       "      <td>38.8920436</td>\n",
       "      <td>-78.1475655</td>\n",
       "    </tr>\n",
       "    <tr>\n",
       "      <th>15019</th>\n",
       "      <td>15020</td>\n",
       "      <td>15020</td>\n",
       "      <td>nysy</td>\n",
       "      <td>81.0</td>\n",
       "      <td>1.3</td>\n",
       "      <td>B</td>\n",
       "      <td>A</td>\n",
       "      <td>747576.4745831</td>\n",
       "      <td>4.3089805e+06</td>\n",
       "      <td>38.8948328</td>\n",
       "      <td>-78.1453508</td>\n",
       "    </tr>\n",
       "    <tr>\n",
       "      <th>50340</th>\n",
       "      <td>36516</td>\n",
       "      <td>50341</td>\n",
       "      <td>libe</td>\n",
       "      <td>11.0</td>\n",
       "      <td>1.3</td>\n",
       "      <td>C</td>\n",
       "      <td>A</td>\n",
       "      <td>747748.6037134</td>\n",
       "      <td>4.3085890e+06</td>\n",
       "      <td>38.8912606</td>\n",
       "      <td>-78.1435096</td>\n",
       "    </tr>\n",
       "    <tr>\n",
       "      <th>21157</th>\n",
       "      <td>21158</td>\n",
       "      <td>21158</td>\n",
       "      <td>nysy</td>\n",
       "      <td>196.0</td>\n",
       "      <td>1.3</td>\n",
       "      <td>B</td>\n",
       "      <td>A</td>\n",
       "      <td>747666.8316856</td>\n",
       "      <td>4.3086127e+06</td>\n",
       "      <td>38.8914970</td>\n",
       "      <td>-78.1444428</td>\n",
       "    </tr>\n",
       "    <tr>\n",
       "      <th>6946</th>\n",
       "      <td>6947</td>\n",
       "      <td>6947</td>\n",
       "      <td>cato</td>\n",
       "      <td>210.0</td>\n",
       "      <td>1.3</td>\n",
       "      <td>B</td>\n",
       "      <td>A</td>\n",
       "      <td>747471.1952820</td>\n",
       "      <td>4.3091034e+06</td>\n",
       "      <td>38.8959686</td>\n",
       "      <td>-78.1465190</td>\n",
       "    </tr>\n",
       "    <tr>\n",
       "      <th>30572</th>\n",
       "      <td>30573</td>\n",
       "      <td>30573</td>\n",
       "      <td>astr</td>\n",
       "      <td>42.0</td>\n",
       "      <td>1.3</td>\n",
       "      <td>B</td>\n",
       "      <td>A</td>\n",
       "      <td>747766.0104994</td>\n",
       "      <td>4.3090027e+06</td>\n",
       "      <td>38.8949793</td>\n",
       "      <td>-78.1431599</td>\n",
       "    </tr>\n",
       "    <tr>\n",
       "      <th>61429</th>\n",
       "      <td>40407</td>\n",
       "      <td>61430</td>\n",
       "      <td>astr</td>\n",
       "      <td>14.0</td>\n",
       "      <td>1.3</td>\n",
       "      <td>B</td>\n",
       "      <td>A</td>\n",
       "      <td>747579.3479047</td>\n",
       "      <td>4.3088351e+06</td>\n",
       "      <td>38.8935236</td>\n",
       "      <td>-78.1453701</td>\n",
       "    </tr>\n",
       "    <tr>\n",
       "      <th>27034</th>\n",
       "      <td>27035</td>\n",
       "      <td>27035</td>\n",
       "      <td>astr</td>\n",
       "      <td>26.0</td>\n",
       "      <td>1.3</td>\n",
       "      <td>B</td>\n",
       "      <td>A</td>\n",
       "      <td>747729.4981091</td>\n",
       "      <td>4.3089295e+06</td>\n",
       "      <td>38.8943310</td>\n",
       "      <td>-78.1436068</td>\n",
       "    </tr>\n",
       "    <tr>\n",
       "      <th>48971</th>\n",
       "      <td>35443</td>\n",
       "      <td>48972</td>\n",
       "      <td>libe</td>\n",
       "      <td>10.0</td>\n",
       "      <td>1.3</td>\n",
       "      <td>C</td>\n",
       "      <td>A</td>\n",
       "      <td>747739.9914700</td>\n",
       "      <td>4.3085765e+06</td>\n",
       "      <td>38.8911505</td>\n",
       "      <td>-78.1436133</td>\n",
       "    </tr>\n",
       "    <tr>\n",
       "      <th>1526</th>\n",
       "      <td>1527</td>\n",
       "      <td>1527</td>\n",
       "      <td>caca</td>\n",
       "      <td>90.0</td>\n",
       "      <td>1.3</td>\n",
       "      <td>B</td>\n",
       "      <td>A</td>\n",
       "      <td>747384.2781803</td>\n",
       "      <td>4.3087583e+06</td>\n",
       "      <td>38.8928869</td>\n",
       "      <td>-78.1476444</td>\n",
       "    </tr>\n",
       "  </tbody>\n",
       "</table>\n",
       "</div>"
      ]
     },
     "metadata": {},
     "execution_count": 124
    }
   ],
   "metadata": {}
  },
  {
   "cell_type": "markdown",
   "source": [
    "__Observation:__ Even after deleting dead trees, we see tree data with codes that are not relevant for us in calculating __Above Ground Biomass__.   \n",
    "So we will be dropping these additional 88 rows from the dataset."
   ],
   "metadata": {}
  },
  {
   "cell_type": "code",
   "execution_count": 125,
   "source": [
    "scbi_2018 = scbi_2018[~scbi_2018['census_codes'].isin(dead_tree_or_stem_census_codes)]\n",
    "scbi_2018['census_codes'].isin(dead_tree_or_stem_census_codes).value_counts()"
   ],
   "outputs": [
    {
     "output_type": "execute_result",
     "data": {
      "text/plain": [
       "False    34771\n",
       "Name: census_codes, dtype: int64"
      ]
     },
     "metadata": {},
     "execution_count": 125
    }
   ],
   "metadata": {}
  },
  {
   "cell_type": "markdown",
   "source": [
    "__Observation:__ Tree count by species"
   ],
   "metadata": {}
  },
  {
   "cell_type": "code",
   "execution_count": 126,
   "source": [
    "plt.figure(figsize=(16,10))\n",
    "count_plot = sns.countplot(data=scbi_2018, x='species', palette='pastel')\n",
    "count_plot.set_xticklabels(labels=count_plot.get_xticklabels(), rotation=45)\n",
    "plt.ylabel('Tree count')\n",
    "plt.xlabel('Tree Species')\n",
    "plt.title('Number of Trees by Species')\n",
    "plt.show()"
   ],
   "outputs": [
    {
     "output_type": "display_data",
     "data": {
      "text/plain": [
       "<Figure size 1152x720 with 1 Axes>"
      ],
      "image/png": "[encoded data removed]"
     },
     "metadata": {
      "needs_background": "light"
     }
    }
   ],
   "metadata": {}
  },
  {
   "cell_type": "markdown",
   "source": [
    "__observation:__ We see from the above plot that there are many species with less than 100 trees."
   ],
   "metadata": {}
  },
  {
   "cell_type": "markdown",
   "source": [
    "__observation:__ Imbalanced dataset\n",
    "\n",
    "As we can see from the above count plot, the scbi 2018 census dataset is imbalanced. We need to address the data imbalance when creating train and test datasets"
   ],
   "metadata": {}
  },
  {
   "cell_type": "code",
   "execution_count": 127,
   "source": [
    "plt.figure(figsize=(16,8))\n",
    "box_plot = sns.boxplot(x='species', y='stem_diameter', data=scbi_2018, palette='pastel')\n",
    "box_plot.set_xticklabels(labels=box_plot.get_xticklabels(), rotation=45)\n",
    "plt.show()\n"
   ],
   "outputs": [
    {
     "output_type": "display_data",
     "data": {
      "text/plain": [
       "<Figure size 1152x576 with 1 Axes>"
      ],
      "image/png": "[encoded data removed]"
     },
     "metadata": {
      "needs_background": "light"
     }
    }
   ],
   "metadata": {}
  },
  {
   "cell_type": "markdown",
   "source": [
    "__Observation: Stem diameter measurements vary significantly across species__"
   ],
   "metadata": {}
  },
  {
   "cell_type": "markdown",
   "source": [
    "__Number of unique trees in SCBI census dataset:__"
   ],
   "metadata": {}
  },
  {
   "cell_type": "code",
   "execution_count": 128,
   "source": [
    "scbi_2018.tree_id.nunique()"
   ],
   "outputs": [
    {
     "output_type": "execute_result",
     "data": {
      "text/plain": [
       "21666"
      ]
     },
     "metadata": {},
     "execution_count": 128
    }
   ],
   "metadata": {}
  },
  {
   "cell_type": "code",
   "execution_count": 129,
   "source": [
    "scbi_2018.shape"
   ],
   "outputs": [
    {
     "output_type": "execute_result",
     "data": {
      "text/plain": [
       "(34771, 11)"
      ]
     },
     "metadata": {},
     "execution_count": 129
    }
   ],
   "metadata": {}
  },
  {
   "cell_type": "markdown",
   "source": [
    "__How many trees haves more than one stem?__"
   ],
   "metadata": {}
  },
  {
   "cell_type": "code",
   "execution_count": 130,
   "source": [
    "tree_stems = scbi_2018[['tree_id', 'stem_id']]\\\n",
    "    .groupby('tree_id')\\\n",
    "    .count()\\\n",
    "    .query('stem_id == 1')\\\n",
    "    .sort_values(by='stem_id', ascending=False)"
   ],
   "outputs": [],
   "metadata": {}
  },
  {
   "cell_type": "code",
   "execution_count": 131,
   "source": [
    "tree_stems_gt1 = scbi_2018[['tree_id', 'stem_id']]\\\n",
    "    .groupby('tree_id')\\\n",
    "    .count()\\\n",
    "    .query('stem_id > 1')\\\n",
    "    .sort_values(by='stem_id', ascending=False)"
   ],
   "outputs": [],
   "metadata": {}
  },
  {
   "cell_type": "code",
   "execution_count": 132,
   "source": [
    "print(f'{tree_stems_gt1.shape[0]} trees have more than one stems')\n",
    "print(f'{tree_stems.shape[0]} trees have only one stems')"
   ],
   "outputs": [
    {
     "output_type": "stream",
     "name": "stdout",
     "text": [
      "8051 trees have more than one stems\n",
      "13615 trees have only one stems\n"
     ]
    }
   ],
   "metadata": {}
  },
  {
   "cell_type": "markdown",
   "source": [
    "### NEON Tree Crown Dataset\n"
   ],
   "metadata": {}
  },
  {
   "cell_type": "code",
   "execution_count": 133,
   "source": [
    "scbi_2019.head()"
   ],
   "outputs": [
    {
     "output_type": "execute_result",
     "data": {
      "text/plain": [
       "       left     bottom     right        top      score      height   area  \\\n",
       "0  749044.0  4304584.5  749053.6  4304594.1  0.8817180  25.3333000  92.16   \n",
       "1  749273.1  4304013.6  749282.1  4304022.9  0.8794504  21.8160007  83.70   \n",
       "2  749103.5  4304633.9  749112.2  4304644.4  0.8699396  13.6721999  91.35   \n",
       "3  749581.1  4304668.6  749590.1  4304679.0  0.8633375  27.0415005  93.60   \n",
       "4  749863.7  4304220.9  749871.1  4304228.4  0.8571851   4.7500000  55.50   \n",
       "\n",
       "        geo_index  \n",
       "0  749000_4304000  \n",
       "1  749000_4304000  \n",
       "2  749000_4304000  \n",
       "3  749000_4304000  \n",
       "4  749000_4304000  "
      ],
      "text/html": [
       "<div>\n",
       "<style scoped>\n",
       "    .dataframe tbody tr th:only-of-type {\n",
       "        vertical-align: middle;\n",
       "    }\n",
       "\n",
       "    .dataframe tbody tr th {\n",
       "        vertical-align: top;\n",
       "    }\n",
       "\n",
       "    .dataframe thead th {\n",
       "        text-align: right;\n",
       "    }\n",
       "</style>\n",
       "<table border=\"1\" class=\"dataframe\">\n",
       "  <thead>\n",
       "    <tr style=\"text-align: right;\">\n",
       "      <th></th>\n",
       "      <th>left</th>\n",
       "      <th>bottom</th>\n",
       "      <th>right</th>\n",
       "      <th>top</th>\n",
       "      <th>score</th>\n",
       "      <th>height</th>\n",
       "      <th>area</th>\n",
       "      <th>geo_index</th>\n",
       "    </tr>\n",
       "  </thead>\n",
       "  <tbody>\n",
       "    <tr>\n",
       "      <th>0</th>\n",
       "      <td>749044.0</td>\n",
       "      <td>4304584.5</td>\n",
       "      <td>749053.6</td>\n",
       "      <td>4304594.1</td>\n",
       "      <td>0.8817180</td>\n",
       "      <td>25.3333000</td>\n",
       "      <td>92.16</td>\n",
       "      <td>749000_4304000</td>\n",
       "    </tr>\n",
       "    <tr>\n",
       "      <th>1</th>\n",
       "      <td>749273.1</td>\n",
       "      <td>4304013.6</td>\n",
       "      <td>749282.1</td>\n",
       "      <td>4304022.9</td>\n",
       "      <td>0.8794504</td>\n",
       "      <td>21.8160007</td>\n",
       "      <td>83.70</td>\n",
       "      <td>749000_4304000</td>\n",
       "    </tr>\n",
       "    <tr>\n",
       "      <th>2</th>\n",
       "      <td>749103.5</td>\n",
       "      <td>4304633.9</td>\n",
       "      <td>749112.2</td>\n",
       "      <td>4304644.4</td>\n",
       "      <td>0.8699396</td>\n",
       "      <td>13.6721999</td>\n",
       "      <td>91.35</td>\n",
       "      <td>749000_4304000</td>\n",
       "    </tr>\n",
       "    <tr>\n",
       "      <th>3</th>\n",
       "      <td>749581.1</td>\n",
       "      <td>4304668.6</td>\n",
       "      <td>749590.1</td>\n",
       "      <td>4304679.0</td>\n",
       "      <td>0.8633375</td>\n",
       "      <td>27.0415005</td>\n",
       "      <td>93.60</td>\n",
       "      <td>749000_4304000</td>\n",
       "    </tr>\n",
       "    <tr>\n",
       "      <th>4</th>\n",
       "      <td>749863.7</td>\n",
       "      <td>4304220.9</td>\n",
       "      <td>749871.1</td>\n",
       "      <td>4304228.4</td>\n",
       "      <td>0.8571851</td>\n",
       "      <td>4.7500000</td>\n",
       "      <td>55.50</td>\n",
       "      <td>749000_4304000</td>\n",
       "    </tr>\n",
       "  </tbody>\n",
       "</table>\n",
       "</div>"
      ]
     },
     "metadata": {},
     "execution_count": 133
    }
   ],
   "metadata": {}
  },
  {
   "cell_type": "markdown",
   "source": [
    "__How many trees exist by geo_index in 2019 dataset?__"
   ],
   "metadata": {}
  },
  {
   "cell_type": "code",
   "execution_count": 134,
   "source": [
    "sns.set_context('paper', font_scale=1.0)\n",
    "plt.figure(figsize=(22,8))\n",
    "box_plot = sns.boxplot(x='geo_index', y='area', data=scbi_2019, palette='pastel')\n",
    "box_plot.set_xticklabels(labels=box_plot.get_xticklabels(), rotation=45)\n",
    "plt.show()"
   ],
   "outputs": [
    {
     "output_type": "display_data",
     "data": {
      "text/plain": [
       "<Figure size 1584x576 with 1 Axes>"
      ],
      "image/png": "[encoded data removed]"
     },
     "metadata": {
      "needs_background": "light"
     }
    }
   ],
   "metadata": {}
  },
  {
   "cell_type": "markdown",
   "source": [
    "## Feature Engineering \n",
    "\n",
    "For matching Trees from 2018 and 2019 dataset -\n",
    "\n",
    "The SCBI 2018 dataset has the UTM coordirnates __2018_UTM_X__ and __2018_UTM_Y__ as the North American Datum (NAD) is the horizontal datum now used to define the geodetic network in North America.\n",
    "\n",
    "Reference:https://en.wikipedia.org/wiki/North_American_Datum  \n",
    "          https://geodesy.noaa.gov/datums/horizontal/north-american-datum-1983.shtml\n",
    "          \n",
    "__Create a geo_index_feature in SCBI 2018 dataset based on the UTM coordinates__"
   ],
   "metadata": {}
  },
  {
   "cell_type": "markdown",
   "source": [
    "The 2018 census dataset has data for two geo_index plots. So we will filter the 2019 dataset by the 2018 census dataset geo_index plots. "
   ],
   "metadata": {}
  },
  {
   "cell_type": "code",
   "execution_count": 135,
   "source": [
    "def subX(x):\n",
    "    return str(x)[0:3] +'000'\n",
    "def subY(y):\n",
    "    return str(y)[0:4] +'000'\n",
    "scbi_2018 = scbi_2018.assign(geo_index = scbi_2018['UTM_2018_X'].apply(subX) + '_' + scbi_2018['UTM_2018_Y'].apply(subY))\n",
    "\n",
    "#count rows by geo_index\n",
    "scbi_geo = scbi_2018[['tree_id','geo_index']]\\\n",
    "     .rename(columns = {'tree_id' :'count'})\\\n",
    "     .groupby('geo_index').count()\\\n",
    "     .reset_index()\n",
    "scbi_geo"
   ],
   "outputs": [
    {
     "output_type": "execute_result",
     "data": {
      "text/plain": [
       "        geo_index  count\n",
       "0  747000_4308000  33691\n",
       "1  747000_4309000   1080"
      ],
      "text/html": [
       "<div>\n",
       "<style scoped>\n",
       "    .dataframe tbody tr th:only-of-type {\n",
       "        vertical-align: middle;\n",
       "    }\n",
       "\n",
       "    .dataframe tbody tr th {\n",
       "        vertical-align: top;\n",
       "    }\n",
       "\n",
       "    .dataframe thead th {\n",
       "        text-align: right;\n",
       "    }\n",
       "</style>\n",
       "<table border=\"1\" class=\"dataframe\">\n",
       "  <thead>\n",
       "    <tr style=\"text-align: right;\">\n",
       "      <th></th>\n",
       "      <th>geo_index</th>\n",
       "      <th>count</th>\n",
       "    </tr>\n",
       "  </thead>\n",
       "  <tbody>\n",
       "    <tr>\n",
       "      <th>0</th>\n",
       "      <td>747000_4308000</td>\n",
       "      <td>33691</td>\n",
       "    </tr>\n",
       "    <tr>\n",
       "      <th>1</th>\n",
       "      <td>747000_4309000</td>\n",
       "      <td>1080</td>\n",
       "    </tr>\n",
       "  </tbody>\n",
       "</table>\n",
       "</div>"
      ]
     },
     "metadata": {},
     "execution_count": 135
    }
   ],
   "metadata": {}
  },
  {
   "cell_type": "markdown",
   "source": [
    "__Filter the scbi_2019 dataset by the geo_index data in 2018 SCBI census dataset__"
   ],
   "metadata": {}
  },
  {
   "cell_type": "code",
   "execution_count": 136,
   "source": [
    "scbi_2019_site = scbi_2019[scbi_2019['geo_index'].isin(scbi_2018.geo_index.unique())]"
   ],
   "outputs": [],
   "metadata": {}
  },
  {
   "cell_type": "code",
   "execution_count": 137,
   "source": [
    "scbi_2019_site[['area','geo_index']]\\\n",
    "     .rename(columns = {'area' :'count'})\\\n",
    "    .groupby('geo_index').count()"
   ],
   "outputs": [
    {
     "output_type": "execute_result",
     "data": {
      "text/plain": [
       "                count\n",
       "geo_index            \n",
       "747000_4308000  33542\n",
       "747000_4309000  35252"
      ],
      "text/html": [
       "<div>\n",
       "<style scoped>\n",
       "    .dataframe tbody tr th:only-of-type {\n",
       "        vertical-align: middle;\n",
       "    }\n",
       "\n",
       "    .dataframe tbody tr th {\n",
       "        vertical-align: top;\n",
       "    }\n",
       "\n",
       "    .dataframe thead th {\n",
       "        text-align: right;\n",
       "    }\n",
       "</style>\n",
       "<table border=\"1\" class=\"dataframe\">\n",
       "  <thead>\n",
       "    <tr style=\"text-align: right;\">\n",
       "      <th></th>\n",
       "      <th>count</th>\n",
       "    </tr>\n",
       "    <tr>\n",
       "      <th>geo_index</th>\n",
       "      <th></th>\n",
       "    </tr>\n",
       "  </thead>\n",
       "  <tbody>\n",
       "    <tr>\n",
       "      <th>747000_4308000</th>\n",
       "      <td>33542</td>\n",
       "    </tr>\n",
       "    <tr>\n",
       "      <th>747000_4309000</th>\n",
       "      <td>35252</td>\n",
       "    </tr>\n",
       "  </tbody>\n",
       "</table>\n",
       "</div>"
      ]
     },
     "metadata": {},
     "execution_count": 137
    }
   ],
   "metadata": {}
  },
  {
   "cell_type": "code",
   "execution_count": 138,
   "source": [
    "scbi_2019_site.head()"
   ],
   "outputs": [
    {
     "output_type": "execute_result",
     "data": {
      "text/plain": [
       "           left     bottom     right        top      score      height  \\\n",
       "47049  747574.9  4309754.2  747583.3  4309762.2  0.8544066  22.3610999   \n",
       "47050  747213.4  4309450.4  747219.9  4309457.9  0.8523655  16.3809994   \n",
       "47051  747291.6  4309813.3  747300.9  4309822.2  0.8437399  26.8459995   \n",
       "47052  747289.4  4309752.5  747297.9  4309762.7  0.8405172  31.3351009   \n",
       "47053  747175.7  4309206.8  747188.7  4309221.3  0.8331666  19.6608008   \n",
       "\n",
       "         area       geo_index  \n",
       "47049   67.20  747000_4309000  \n",
       "47050   48.75  747000_4309000  \n",
       "47051   82.77  747000_4309000  \n",
       "47052   86.70  747000_4309000  \n",
       "47053  188.50  747000_4309000  "
      ],
      "text/html": [
       "<div>\n",
       "<style scoped>\n",
       "    .dataframe tbody tr th:only-of-type {\n",
       "        vertical-align: middle;\n",
       "    }\n",
       "\n",
       "    .dataframe tbody tr th {\n",
       "        vertical-align: top;\n",
       "    }\n",
       "\n",
       "    .dataframe thead th {\n",
       "        text-align: right;\n",
       "    }\n",
       "</style>\n",
       "<table border=\"1\" class=\"dataframe\">\n",
       "  <thead>\n",
       "    <tr style=\"text-align: right;\">\n",
       "      <th></th>\n",
       "      <th>left</th>\n",
       "      <th>bottom</th>\n",
       "      <th>right</th>\n",
       "      <th>top</th>\n",
       "      <th>score</th>\n",
       "      <th>height</th>\n",
       "      <th>area</th>\n",
       "      <th>geo_index</th>\n",
       "    </tr>\n",
       "  </thead>\n",
       "  <tbody>\n",
       "    <tr>\n",
       "      <th>47049</th>\n",
       "      <td>747574.9</td>\n",
       "      <td>4309754.2</td>\n",
       "      <td>747583.3</td>\n",
       "      <td>4309762.2</td>\n",
       "      <td>0.8544066</td>\n",
       "      <td>22.3610999</td>\n",
       "      <td>67.20</td>\n",
       "      <td>747000_4309000</td>\n",
       "    </tr>\n",
       "    <tr>\n",
       "      <th>47050</th>\n",
       "      <td>747213.4</td>\n",
       "      <td>4309450.4</td>\n",
       "      <td>747219.9</td>\n",
       "      <td>4309457.9</td>\n",
       "      <td>0.8523655</td>\n",
       "      <td>16.3809994</td>\n",
       "      <td>48.75</td>\n",
       "      <td>747000_4309000</td>\n",
       "    </tr>\n",
       "    <tr>\n",
       "      <th>47051</th>\n",
       "      <td>747291.6</td>\n",
       "      <td>4309813.3</td>\n",
       "      <td>747300.9</td>\n",
       "      <td>4309822.2</td>\n",
       "      <td>0.8437399</td>\n",
       "      <td>26.8459995</td>\n",
       "      <td>82.77</td>\n",
       "      <td>747000_4309000</td>\n",
       "    </tr>\n",
       "    <tr>\n",
       "      <th>47052</th>\n",
       "      <td>747289.4</td>\n",
       "      <td>4309752.5</td>\n",
       "      <td>747297.9</td>\n",
       "      <td>4309762.7</td>\n",
       "      <td>0.8405172</td>\n",
       "      <td>31.3351009</td>\n",
       "      <td>86.70</td>\n",
       "      <td>747000_4309000</td>\n",
       "    </tr>\n",
       "    <tr>\n",
       "      <th>47053</th>\n",
       "      <td>747175.7</td>\n",
       "      <td>4309206.8</td>\n",
       "      <td>747188.7</td>\n",
       "      <td>4309221.3</td>\n",
       "      <td>0.8331666</td>\n",
       "      <td>19.6608008</td>\n",
       "      <td>188.50</td>\n",
       "      <td>747000_4309000</td>\n",
       "    </tr>\n",
       "  </tbody>\n",
       "</table>\n",
       "</div>"
      ]
     },
     "metadata": {},
     "execution_count": 138
    }
   ],
   "metadata": {}
  },
  {
   "cell_type": "markdown",
   "source": [
    "__Create unique_id for eachrow in 2019 dataset__"
   ],
   "metadata": {}
  },
  {
   "cell_type": "code",
   "execution_count": 139,
   "source": [
    "import uuid\n",
    "ids = [uuid.uuid4() for _ in range(len(scbi_2019_site.index))]"
   ],
   "outputs": [],
   "metadata": {}
  },
  {
   "cell_type": "code",
   "execution_count": 140,
   "source": [
    "scbi_2019_site = scbi_2019_site.assign(id =ids )"
   ],
   "outputs": [],
   "metadata": {}
  },
  {
   "cell_type": "code",
   "execution_count": 141,
   "source": [
    "scbi_2019_site.head()"
   ],
   "outputs": [
    {
     "output_type": "execute_result",
     "data": {
      "text/plain": [
       "           left     bottom     right        top      score      height  \\\n",
       "47049  747574.9  4309754.2  747583.3  4309762.2  0.8544066  22.3610999   \n",
       "47050  747213.4  4309450.4  747219.9  4309457.9  0.8523655  16.3809994   \n",
       "47051  747291.6  4309813.3  747300.9  4309822.2  0.8437399  26.8459995   \n",
       "47052  747289.4  4309752.5  747297.9  4309762.7  0.8405172  31.3351009   \n",
       "47053  747175.7  4309206.8  747188.7  4309221.3  0.8331666  19.6608008   \n",
       "\n",
       "         area       geo_index                                    id  \n",
       "47049   67.20  747000_4309000  2317c6a9-6fd1-4254-9aae-c33a8b6737cd  \n",
       "47050   48.75  747000_4309000  f53c0ff5-a8b4-4784-b80d-bd425f772210  \n",
       "47051   82.77  747000_4309000  a9708afa-0f30-40bf-81c1-5810cc7a0b40  \n",
       "47052   86.70  747000_4309000  0ab87b28-4a89-45db-9bd4-7d76e9317495  \n",
       "47053  188.50  747000_4309000  1613e7f6-038f-4540-ba74-8485e43defce  "
      ],
      "text/html": [
       "<div>\n",
       "<style scoped>\n",
       "    .dataframe tbody tr th:only-of-type {\n",
       "        vertical-align: middle;\n",
       "    }\n",
       "\n",
       "    .dataframe tbody tr th {\n",
       "        vertical-align: top;\n",
       "    }\n",
       "\n",
       "    .dataframe thead th {\n",
       "        text-align: right;\n",
       "    }\n",
       "</style>\n",
       "<table border=\"1\" class=\"dataframe\">\n",
       "  <thead>\n",
       "    <tr style=\"text-align: right;\">\n",
       "      <th></th>\n",
       "      <th>left</th>\n",
       "      <th>bottom</th>\n",
       "      <th>right</th>\n",
       "      <th>top</th>\n",
       "      <th>score</th>\n",
       "      <th>height</th>\n",
       "      <th>area</th>\n",
       "      <th>geo_index</th>\n",
       "      <th>id</th>\n",
       "    </tr>\n",
       "  </thead>\n",
       "  <tbody>\n",
       "    <tr>\n",
       "      <th>47049</th>\n",
       "      <td>747574.9</td>\n",
       "      <td>4309754.2</td>\n",
       "      <td>747583.3</td>\n",
       "      <td>4309762.2</td>\n",
       "      <td>0.8544066</td>\n",
       "      <td>22.3610999</td>\n",
       "      <td>67.20</td>\n",
       "      <td>747000_4309000</td>\n",
       "      <td>2317c6a9-6fd1-4254-9aae-c33a8b6737cd</td>\n",
       "    </tr>\n",
       "    <tr>\n",
       "      <th>47050</th>\n",
       "      <td>747213.4</td>\n",
       "      <td>4309450.4</td>\n",
       "      <td>747219.9</td>\n",
       "      <td>4309457.9</td>\n",
       "      <td>0.8523655</td>\n",
       "      <td>16.3809994</td>\n",
       "      <td>48.75</td>\n",
       "      <td>747000_4309000</td>\n",
       "      <td>f53c0ff5-a8b4-4784-b80d-bd425f772210</td>\n",
       "    </tr>\n",
       "    <tr>\n",
       "      <th>47051</th>\n",
       "      <td>747291.6</td>\n",
       "      <td>4309813.3</td>\n",
       "      <td>747300.9</td>\n",
       "      <td>4309822.2</td>\n",
       "      <td>0.8437399</td>\n",
       "      <td>26.8459995</td>\n",
       "      <td>82.77</td>\n",
       "      <td>747000_4309000</td>\n",
       "      <td>a9708afa-0f30-40bf-81c1-5810cc7a0b40</td>\n",
       "    </tr>\n",
       "    <tr>\n",
       "      <th>47052</th>\n",
       "      <td>747289.4</td>\n",
       "      <td>4309752.5</td>\n",
       "      <td>747297.9</td>\n",
       "      <td>4309762.7</td>\n",
       "      <td>0.8405172</td>\n",
       "      <td>31.3351009</td>\n",
       "      <td>86.70</td>\n",
       "      <td>747000_4309000</td>\n",
       "      <td>0ab87b28-4a89-45db-9bd4-7d76e9317495</td>\n",
       "    </tr>\n",
       "    <tr>\n",
       "      <th>47053</th>\n",
       "      <td>747175.7</td>\n",
       "      <td>4309206.8</td>\n",
       "      <td>747188.7</td>\n",
       "      <td>4309221.3</td>\n",
       "      <td>0.8331666</td>\n",
       "      <td>19.6608008</td>\n",
       "      <td>188.50</td>\n",
       "      <td>747000_4309000</td>\n",
       "      <td>1613e7f6-038f-4540-ba74-8485e43defce</td>\n",
       "    </tr>\n",
       "  </tbody>\n",
       "</table>\n",
       "</div>"
      ]
     },
     "metadata": {},
     "execution_count": 141
    }
   ],
   "metadata": {}
  },
  {
   "cell_type": "markdown",
   "source": [
    "__The frequency distribution of trees by area in 2019 dataset__"
   ],
   "metadata": {}
  },
  {
   "cell_type": "code",
   "execution_count": 142,
   "source": [
    "sns.displot(data = scbi_2019_site, x='area', kde=True, bins=15)"
   ],
   "outputs": [
    {
     "output_type": "execute_result",
     "data": {
      "text/plain": [
       "<seaborn.axisgrid.FacetGrid at 0x7fc0ea4a6ee0>"
      ]
     },
     "metadata": {},
     "execution_count": 142
    },
    {
     "output_type": "display_data",
     "data": {
      "text/plain": [
       "<Figure size 360x360 with 1 Axes>"
      ],
      "image/png": "[encoded data removed]"
     },
     "metadata": {
      "needs_background": "light"
     }
    }
   ],
   "metadata": {}
  },
  {
   "cell_type": "code",
   "execution_count": 143,
   "source": [
    "plt.figure(figsize=(10,8))\n",
    "sns.boxplot(x='geo_index', y='area', data=scbi_2019_site, hue='geo_index', palette='pastel')\n",
    "#move legend\n",
    "plt.legend(loc=0)"
   ],
   "outputs": [
    {
     "output_type": "execute_result",
     "data": {
      "text/plain": [
       "<matplotlib.legend.Legend at 0x7fc0c7c6d910>"
      ]
     },
     "metadata": {},
     "execution_count": 143
    },
    {
     "output_type": "display_data",
     "data": {
      "text/plain": [
       "<Figure size 720x576 with 1 Axes>"
      ],
      "image/png": "[encoded data removed]"
     },
     "metadata": {
      "needs_background": "light"
     }
    }
   ],
   "metadata": {}
  },
  {
   "cell_type": "code",
   "execution_count": 144,
   "source": [
    "scbi_2019_site.area.describe()"
   ],
   "outputs": [
    {
     "output_type": "execute_result",
     "data": {
      "text/plain": [
       "count    68794.0000000\n",
       "mean        23.3648001\n",
       "std         25.9933517\n",
       "min          1.8700000\n",
       "25%          7.8000000\n",
       "50%         13.2600000\n",
       "75%         26.5200000\n",
       "max        325.7800000\n",
       "Name: area, dtype: float64"
      ]
     },
     "metadata": {},
     "execution_count": 144
    }
   ],
   "metadata": {}
  },
  {
   "cell_type": "markdown",
   "source": [
    "#__observation:__\n",
    "#We can see that the area for 75% of trees fall in the range of 0 to 26.52 square meters. "
   ],
   "metadata": {}
  },
  {
   "cell_type": "code",
   "execution_count": 145,
   "source": [
    "plt.figure(figsize=(12,8))\n",
    "sns.boxplot(x='geo_index', y='height', data=scbi_2019_site, hue='geo_index', palette='pastel')\n",
    "#move legend\n",
    "plt.legend(loc=8)"
   ],
   "outputs": [
    {
     "output_type": "execute_result",
     "data": {
      "text/plain": [
       "<matplotlib.legend.Legend at 0x7fc0c7e45d30>"
      ]
     },
     "metadata": {},
     "execution_count": 145
    },
    {
     "output_type": "display_data",
     "data": {
      "text/plain": [
       "<Figure size 864x576 with 1 Axes>"
      ],
      "image/png": "[encoded data removed]"
     },
     "metadata": {
      "needs_background": "light"
     }
    }
   ],
   "metadata": {}
  },
  {
   "cell_type": "markdown",
   "source": [
    "__Observation:__\n",
    "We see from the above plot that the majority of the trees have a height between 20 and 40 meters."
   ],
   "metadata": {}
  },
  {
   "cell_type": "markdown",
   "source": [
    "__Create new 2019_UTM_X and 2019_UTM_Y for 2019 NEON Crown dataset__"
   ],
   "metadata": {}
  },
  {
   "cell_type": "code",
   "execution_count": 146,
   "source": [
    "def avgUTM(UTM1,UTM2):\n",
    "    '''\n",
    "    average of two UTM Coodrinates\n",
    "    '''\n",
    "    return (UTM1+UTM2)/2\n",
    "\n",
    "# compute and create Center_X_2019 UTM coortinate column\n",
    "scbi_2019_site = scbi_2019_site.assign(UTM_2019_X=lambda x: avgUTM(x['left'], x['right']))\n",
    "\n",
    "# compute and create Center_Y_2019 UTM coortinate column\n",
    "scbi_2019_site = scbi_2019_site.assign(UTM_2019_Y=lambda x: avgUTM(x['bottom'], x['top']))\n",
    "\n",
    "scbi_2019_site.head(5)"
   ],
   "outputs": [
    {
     "output_type": "execute_result",
     "data": {
      "text/plain": [
       "           left     bottom     right        top      score      height  \\\n",
       "47049  747574.9  4309754.2  747583.3  4309762.2  0.8544066  22.3610999   \n",
       "47050  747213.4  4309450.4  747219.9  4309457.9  0.8523655  16.3809994   \n",
       "47051  747291.6  4309813.3  747300.9  4309822.2  0.8437399  26.8459995   \n",
       "47052  747289.4  4309752.5  747297.9  4309762.7  0.8405172  31.3351009   \n",
       "47053  747175.7  4309206.8  747188.7  4309221.3  0.8331666  19.6608008   \n",
       "\n",
       "         area       geo_index                                    id  \\\n",
       "47049   67.20  747000_4309000  2317c6a9-6fd1-4254-9aae-c33a8b6737cd   \n",
       "47050   48.75  747000_4309000  f53c0ff5-a8b4-4784-b80d-bd425f772210   \n",
       "47051   82.77  747000_4309000  a9708afa-0f30-40bf-81c1-5810cc7a0b40   \n",
       "47052   86.70  747000_4309000  0ab87b28-4a89-45db-9bd4-7d76e9317495   \n",
       "47053  188.50  747000_4309000  1613e7f6-038f-4540-ba74-8485e43defce   \n",
       "\n",
       "       UTM_2019_X  UTM_2019_Y  \n",
       "47049   747579.10  4309758.20  \n",
       "47050   747216.65  4309454.15  \n",
       "47051   747296.25  4309817.75  \n",
       "47052   747293.65  4309757.60  \n",
       "47053   747182.20  4309214.05  "
      ],
      "text/html": [
       "<div>\n",
       "<style scoped>\n",
       "    .dataframe tbody tr th:only-of-type {\n",
       "        vertical-align: middle;\n",
       "    }\n",
       "\n",
       "    .dataframe tbody tr th {\n",
       "        vertical-align: top;\n",
       "    }\n",
       "\n",
       "    .dataframe thead th {\n",
       "        text-align: right;\n",
       "    }\n",
       "</style>\n",
       "<table border=\"1\" class=\"dataframe\">\n",
       "  <thead>\n",
       "    <tr style=\"text-align: right;\">\n",
       "      <th></th>\n",
       "      <th>left</th>\n",
       "      <th>bottom</th>\n",
       "      <th>right</th>\n",
       "      <th>top</th>\n",
       "      <th>score</th>\n",
       "      <th>height</th>\n",
       "      <th>area</th>\n",
       "      <th>geo_index</th>\n",
       "      <th>id</th>\n",
       "      <th>UTM_2019_X</th>\n",
       "      <th>UTM_2019_Y</th>\n",
       "    </tr>\n",
       "  </thead>\n",
       "  <tbody>\n",
       "    <tr>\n",
       "      <th>47049</th>\n",
       "      <td>747574.9</td>\n",
       "      <td>4309754.2</td>\n",
       "      <td>747583.3</td>\n",
       "      <td>4309762.2</td>\n",
       "      <td>0.8544066</td>\n",
       "      <td>22.3610999</td>\n",
       "      <td>67.20</td>\n",
       "      <td>747000_4309000</td>\n",
       "      <td>2317c6a9-6fd1-4254-9aae-c33a8b6737cd</td>\n",
       "      <td>747579.10</td>\n",
       "      <td>4309758.20</td>\n",
       "    </tr>\n",
       "    <tr>\n",
       "      <th>47050</th>\n",
       "      <td>747213.4</td>\n",
       "      <td>4309450.4</td>\n",
       "      <td>747219.9</td>\n",
       "      <td>4309457.9</td>\n",
       "      <td>0.8523655</td>\n",
       "      <td>16.3809994</td>\n",
       "      <td>48.75</td>\n",
       "      <td>747000_4309000</td>\n",
       "      <td>f53c0ff5-a8b4-4784-b80d-bd425f772210</td>\n",
       "      <td>747216.65</td>\n",
       "      <td>4309454.15</td>\n",
       "    </tr>\n",
       "    <tr>\n",
       "      <th>47051</th>\n",
       "      <td>747291.6</td>\n",
       "      <td>4309813.3</td>\n",
       "      <td>747300.9</td>\n",
       "      <td>4309822.2</td>\n",
       "      <td>0.8437399</td>\n",
       "      <td>26.8459995</td>\n",
       "      <td>82.77</td>\n",
       "      <td>747000_4309000</td>\n",
       "      <td>a9708afa-0f30-40bf-81c1-5810cc7a0b40</td>\n",
       "      <td>747296.25</td>\n",
       "      <td>4309817.75</td>\n",
       "    </tr>\n",
       "    <tr>\n",
       "      <th>47052</th>\n",
       "      <td>747289.4</td>\n",
       "      <td>4309752.5</td>\n",
       "      <td>747297.9</td>\n",
       "      <td>4309762.7</td>\n",
       "      <td>0.8405172</td>\n",
       "      <td>31.3351009</td>\n",
       "      <td>86.70</td>\n",
       "      <td>747000_4309000</td>\n",
       "      <td>0ab87b28-4a89-45db-9bd4-7d76e9317495</td>\n",
       "      <td>747293.65</td>\n",
       "      <td>4309757.60</td>\n",
       "    </tr>\n",
       "    <tr>\n",
       "      <th>47053</th>\n",
       "      <td>747175.7</td>\n",
       "      <td>4309206.8</td>\n",
       "      <td>747188.7</td>\n",
       "      <td>4309221.3</td>\n",
       "      <td>0.8331666</td>\n",
       "      <td>19.6608008</td>\n",
       "      <td>188.50</td>\n",
       "      <td>747000_4309000</td>\n",
       "      <td>1613e7f6-038f-4540-ba74-8485e43defce</td>\n",
       "      <td>747182.20</td>\n",
       "      <td>4309214.05</td>\n",
       "    </tr>\n",
       "  </tbody>\n",
       "</table>\n",
       "</div>"
      ]
     },
     "metadata": {},
     "execution_count": 146
    }
   ],
   "metadata": {}
  },
  {
   "cell_type": "markdown",
   "source": [
    "### Calculating Euclidean Distance between UTM coordinates of the SCBI 2018 census dataset and 2018 NEON Tree Crowns AOP dataset"
   ],
   "metadata": {}
  },
  {
   "cell_type": "code",
   "execution_count": 147,
   "source": [
    "def euclidean_distance(point1, point2):\n",
    "    '''\n",
    "    compute euclidean distance between two points\n",
    "    '''\n",
    "    ed= np.linalg.norm(point1 - point2)\n",
    "    return ed"
   ],
   "outputs": [],
   "metadata": {}
  },
  {
   "cell_type": "code",
   "execution_count": 148,
   "source": [
    "def compute_euclidean_distance(utm_2018_and_2019_df):\n",
    "    '''\n",
    "    compute euclidean distance between UTM coordinates of 2018 and 2019 dataset\n",
    "    '''\n",
    "    # create an empty array\n",
    "    ed = []\n",
    "    \n",
    "    # iterate rows of the dataset using itertuples\n",
    "    for row_tupple in utm_2018_and_2019_df.itertuples():\n",
    "        \n",
    "        # compute euclidean distance between for a tree 2018 UTM coorinates with all the 2019 dataset UTM coordinates\n",
    "        ecd = euclidean_distance(np.array((row_tupple.UTM_2018_X, row_tupple.UTM_2018_Y)), \n",
    "            np.array((row_tupple.UTM_2019_X, row_tupple.UTM_2019_Y)))\n",
    "        \n",
    "        #append the eucliedian distance to 2019 dataset\n",
    "        ed.append(ecd)\n",
    "    \n",
    "    #append the array as new columns \n",
    "    utm_2018_and_2019_df['euclidean_dist'] = ed\n",
    "    \n",
    "    return utm_2018_and_2019_df"
   ],
   "outputs": [],
   "metadata": {}
  },
  {
   "cell_type": "markdown",
   "source": [
    "__Matching Algorithm__\n",
    "\n",
    "- The merging Algorithm takes the  stem_diameter_filter, tree_height_filter, geo_index, scbi_2018, and neon_2019 datasets.\n",
    "- All trees with stem_diamter <= stem_diameter_filter in cms are filtered from the scbi 2018 census dataset.\n",
    "- All trees with height <= tree_height_filter in meters are filtered from  the 2019Neon crown  dataset\n",
    "- First, from the Bounding Box UTM coordinates in the 2019 dataset (left, bottom, top, and right features), we created a center point X and Y coordinates represented by UTM_2019_B and UTM_2019_Y features.\n",
    "- The SCBI 2018 census dataset has tree-specific UTM coordinates represented as UTM_2018_X, UTM_2018_Y. \n",
    "- Then we computed Euclidean distance for a tree in the 2018 dataset to all the trees in the 2019 dataset and then selected the top 5 matched trees by the shortest distance between tree centers' in the 2018 and 2019 UTM coordinates.\n",
    "- The final merged dataset has 5 top matches from the 2019 Neon Crown dataset for every tree in the 2018 SCBI census dataset.\n",
    "- Then group the merged dataset by the UUID feature (created for the 2019 dataset), then sort by euclidean distance in ascending order.\n",
    "- Then group the merged dataset by the tree_id feature (created for the 2019 dataset), then sort by euclidean distance in ascending order.\n",
    "- Select the first tree with the shortest distance and purge the remaining trees with the same UUID from the dataset.\n",
    "- Each observation in the final merged dataset matches best of the top 5 matches by shortest Euclidean distance between the centers of trees in the 2018 and 2019 datasets."
   ],
   "metadata": {}
  },
  {
   "cell_type": "code",
   "execution_count": 149,
   "source": [
    "def match_and_merge(geo_index, scbi_2018, neon_2019_subset, stem_diameter_filter = 10, tree_hight_filter = 10):\n",
    "    '''\n",
    "        merge 2018 SCBI census dataset and 2019 NEOW Crown dataset of trees & create a new dataset with features -\n",
    "    '''\n",
    "    \n",
    "    #filter data by geo_index \n",
    "    df_1 = scbi_2018[scbi_2018['geo_index'] == geo_index].head(10)\n",
    "    \n",
    "    # filter out the smallest trees from 2018 dataset by dbh\n",
    "    df_1 = df_1[df_1['stem_diameter'] > stem_diameter_filter]\n",
    "    \n",
    "    print(f\"2018 SCBI dataset shape {df_1.shape}\")\n",
    "    \n",
    "    #filter data by geo_index \n",
    "    df_2 = neon_2019_subset[neon_2019_subset['geo_index'] == geo_index]\n",
    "    \n",
    "    # filter out the smallest trees from 2019 dataset by dbh\n",
    "    df_2 = df_2[df_2['height'] > tree_hight_filter]\n",
    "    \n",
    "    print(f\"2019 Neon crown dataset shape {df_2.shape}\")\n",
    "    \n",
    "    #create and empty dataframe object\n",
    "    matched_df = pd.DataFrame(columns =[\n",
    "        'tree_id', 'matched_tree_id', 'stem_id','species', 'stem_diameter', 'point_of_measure', 'score', 'height', 'area' , 'UTM_2018_X', 'UTM_2018_Y', \n",
    "        'UTM_2019_X', 'UTM_2019_Y', 'euclidean_dist', 'left','bottom', 'right', 'top', 'tree_status', 'census_codes',\n",
    "    ])\n",
    "    \n",
    "    #for every tree in df1 match the nearest tree by euclidian distance\n",
    "    for irow in df_1.itertuples():\n",
    "        # copy 2018 tree dataset to 2019 ds\n",
    "        df_2 = df_2.assign(UTM_2018_X = irow.UTM_2018_X)\n",
    "        df_2 = df_2.assign(UTM_2018_Y = irow.UTM_2018_Y)\n",
    "        \n",
    "        # compute euclidian distance from tree in 2018 dataset\n",
    "        df_2 = compute_euclidean_distance(df_2)\n",
    "        \n",
    "        top5_matched_trees = df_2.sort_values(by = 'euclidean_dist', ascending = True).head(5)\n",
    "        \n",
    "        top5_trees_df = pd.DataFrame(columns =[\n",
    "        'tree_id', 'matched_tree_id', 'stem_id','species', 'stem_diameter', 'point_of_measure', 'score', 'height', 'area' , 'UTM_2018_X', 'UTM_2018_Y', \n",
    "        'UTM_2019_X', 'UTM_2019_Y', 'euclidean_dist', 'left','bottom', 'right', 'top', 'tree_status', 'census_codes',\n",
    "        ])\n",
    "        \n",
    "\n",
    "        for row in top5_matched_trees.itertuples():\n",
    "            \n",
    "            top5_trees_df = top5_trees_df.append({'tree_id' : irow.tree_id,\n",
    "                                        'matched_tree_id' : row.id,\n",
    "                                        'stem_id' : irow.stem_id,\n",
    "                                        'species' : irow.species,\n",
    "                                        'stem_diameter' : irow.stem_diameter,\n",
    "                                        'point_of_measure': irow.point_of_measure,\n",
    "                                        'score': row.score, #matched_tree['score'].iloc[0],\n",
    "                                        'height': row.height, #matched_tree['height'].iloc[0],\n",
    "                                        'area': row.area, #matched_tree['area'].iloc[0],\n",
    "                                        'UTM_2018_X': irow.UTM_2018_X,\n",
    "                                        'UTM_2018_Y': irow.UTM_2018_Y,\n",
    "                                        'UTM_2019_X': row.UTM_2019_X, #matched_tree['UTM_2019_X'].iloc[0],\n",
    "                                        'UTM_2019_Y': row.UTM_2019_X,#matched_tree['UTM_2019_Y'].iloc[0],\n",
    "                                        'euclidean_dist': row.euclidean_dist, #matched_tree['euclidean_dist'].iloc[0],\n",
    "                                        'left': row.left, #matched_tree['left'].iloc[0],\n",
    "                                        'bottom': row.bottom, # matched_tree['bottom'].iloc[0],\n",
    "                                        'right': row.right, #matched_tree['right'].iloc[0],\n",
    "                                        'top': row.top, #matched_tree['top'].iloc[0],\n",
    "                                        'tree_status': irow.tree_status,\n",
    "                                        'census_codes': irow.census_codes\n",
    "                                       }, ignore_index=True)\n",
    "        \n",
    "        matched_df = matched_df.append(top5_trees_df)\n",
    "    \n",
    "        \n",
    "    return matched_df"
   ],
   "outputs": [],
   "metadata": {}
  },
  {
   "cell_type": "code",
   "execution_count": 150,
   "source": [
    "def filter_unique_match_by_ecd(matched_df):\n",
    "    scbi_2018_neon_2019_merged_df = pd.DataFrame(columns =['tree_id', 'matched_tree_id', 'stem_id','species', 'stem_diameter', 'point_of_measure',\n",
    "                                                           'score', 'height', 'area' , 'UTM_2018_X', 'UTM_2018_Y', 'UTM_2019_X', 'UTM_2019_Y', \n",
    "                                                           'euclidean_dist', 'left','bottom', 'right', 'top', 'tree_status', 'census_codes' ])\n",
    "     \n",
    "    filterd_scbi_2018_neon_2019_merged_df = pd.DataFrame(columns =['tree_id', 'matched_tree_id', 'stem_id','species', 'stem_diameter', 'point_of_measure',\n",
    "                                                           'score', 'height', 'area' , 'UTM_2018_X', 'UTM_2018_Y', 'UTM_2019_X', 'UTM_2019_Y', \n",
    "                                                           'euclidean_dist', 'left','bottom', 'right', 'top', 'tree_status', 'census_codes' ])\n",
    "          \n",
    "    # unique matched_tree_ids\n",
    "    unique_matched_trees = matched_df.matched_tree_id.unique()\n",
    "    \n",
    "    for m_tree_id in unique_matched_trees:\n",
    "\n",
    "        temp_df = matched_df[matched_df['matched_tree_id'] == m_tree_id].sort_values(by='euclidean_dist', ascending=True).head(1)\n",
    "        \n",
    "        #print(f\"tree_id: {temp_df['tree_id']} matched_tree_id: {temp_df['matched_tree_id']} euclidean_id: {temp_df['euclidean_dist']}\")\n",
    "        scbi_2018_neon_2019_merged_df = scbi_2018_neon_2019_merged_df.append(temp_df.head(1))\n",
    "        \n",
    "    \n",
    "    # unique tree_ids\n",
    "    unique_tree_ids = matched_df.tree_id.unique()\n",
    "    \n",
    "    for tree_id in unique_tree_ids:\n",
    "        temp_df = matched_df[matched_df['tree_id'] == tree_id].sort_values(by='euclidean_dist', ascending=True).head(1)\n",
    "        filterd_scbi_2018_neon_2019_merged_df = filterd_scbi_2018_neon_2019_merged_df.append(temp_df)\n",
    "    return filterd_scbi_2018_neon_2019_merged_df.reset_index(drop=True)\n",
    "        "
   ],
   "outputs": [],
   "metadata": {}
  },
  {
   "cell_type": "code",
   "execution_count": 151,
   "source": [
    "matched_2018_s1 = match_and_merge('747000_4308000', scbi_2018, scbi_2019_site)\n",
    "matched_2018_s1 = filter_unique_match_by_ecd(matched_2018_s1)"
   ],
   "outputs": [
    {
     "output_type": "stream",
     "name": "stdout",
     "text": [
      "2018 SCBI dataset shape (10, 12)\n",
      "2019 Neon crown dataset shape (29771, 11)\n"
     ]
    }
   ],
   "metadata": {}
  },
  {
   "cell_type": "code",
   "execution_count": 152,
   "source": [
    "matched_2018_s2 = match_and_merge('747000_4309000', scbi_2018, scbi_2019_site)\n",
    "matched_2018_s2 = filter_unique_match_by_ecd(matched_2018_s2)"
   ],
   "outputs": [
    {
     "output_type": "stream",
     "name": "stdout",
     "text": [
      "2018 SCBI dataset shape (10, 12)\n",
      "2019 Neon crown dataset shape (33358, 11)\n"
     ]
    }
   ],
   "metadata": {}
  },
  {
   "cell_type": "code",
   "execution_count": 153,
   "source": [
    "merged_and_matched_trees_2018_2019_df = pd.concat([matched_2018_s1, matched_2018_s2], ignore_index=True)"
   ],
   "outputs": [],
   "metadata": {}
  },
  {
   "cell_type": "code",
   "execution_count": 154,
   "source": [
    "merged_and_matched_trees_2018_2019_df.to_csv('data/merged_and_matched_trees.csv')"
   ],
   "outputs": [],
   "metadata": {}
  },
  {
   "cell_type": "code",
   "execution_count": 155,
   "source": [
    "merged_and_matched_trees_2018_2019_df.shape"
   ],
   "outputs": [
    {
     "output_type": "execute_result",
     "data": {
      "text/plain": [
       "(20, 20)"
      ]
     },
     "metadata": {},
     "execution_count": 155
    }
   ],
   "metadata": {}
  },
  {
   "cell_type": "markdown",
   "source": [
    "## Conclusion:\n",
    "\n",
    "As part of the Exploratory data analysis, We have done extensive cleaning and data manipulation to merge the ground and aerial data by the tree to create a suitable dataset with a rich set of variables to apply Bayesian machine learning techniques to meet our course project's overarching goal. We used a sample of data obtained from a portion of our merged (aerial/ground) data to prototype our estimative models."
   ],
   "metadata": {}
  },
  {
   "cell_type": "markdown",
   "source": [
    "# \n"
   ],
   "metadata": {}
  }
 ],
 "metadata": {
  "interpreter": {
   "hash": "965df304fa3a1b4e9e981c158a7554e86446e1c52da97f4b98431979e2438b23"
  },
  "kernelspec": {
   "display_name": "Python 3",
   "language": "python",
   "name": "python3"
  },
  "language_info": {
   "codemirror_mode": {
    "name": "ipython",
    "version": 3
   },
   "file_extension": ".py",
   "mimetype": "text/x-python",
   "name": "python",
   "nbconvert_exporter": "python",
   "pygments_lexer": "ipython3",
   "version": "3.8.10"
  }
 },
 "nbformat": 4,
 "nbformat_minor": 5
}