{
 "cells": [
  {
   "cell_type": "markdown",
   "id": "9e9bf29d",
   "metadata": {},
   "source": [
    "### Packages"
   ]
  },
  {
   "cell_type": "code",
   "execution_count": 1,
   "id": "f1ad041f",
   "metadata": {},
   "outputs": [],
   "source": [
    "from sklearn.model_selection import train_test_split\n",
    "# ^^^ pyforest auto-imports - don't write above this line\n",
    "import xgboost as xgb\n",
    "#from sklearn.model_selection import train_test_split\n",
    "from sklearn.model_selection import GridSearchCV\n",
    "import numpy as np\n",
    "from sklearn.metrics import precision_score, recall_score, accuracy_score\n",
    "\n",
    "#import warnings\n",
    "#def ignore_warn(*args, **kwargs): pass warnings.warn = ignore_warn\n",
    "import numpy as np \n",
    "import pandas as pd \n",
    "%matplotlib inline\n",
    "import matplotlib.pyplot as plt \n",
    "import seaborn as sns\n",
    "from scipy import stats\n",
    "from scipy.stats import norm, skew\n",
    "from sklearn import preprocessing\n",
    "from sklearn.metrics import r2_score\n",
    "from sklearn.metrics import mean_squared_error\n",
    "from sklearn.linear_model import ElasticNetCV, ElasticNet\n",
    "from xgboost import XGBRegressor, plot_importance \n",
    "from sklearn.model_selection import RandomizedSearchCV\n",
    "from sklearn.model_selection import StratifiedKFold\n",
    "pd.set_option('display.float_format', lambda x: '{:.3f}'.format(x))\n",
    "\n",
    "from sklearn import preprocessing\n",
    "from sklearn.compose import ColumnTransformer\n",
    "import category_encoders as ce\n",
    "from sklearn.pipeline import Pipeline\n",
    "from sklearn.metrics import f1_score"
   ]
  },
  {
   "cell_type": "markdown",
   "id": "a19003ad",
   "metadata": {},
   "source": [
    "### Data Import, Exploration and Preparation"
   ]
  },
  {
   "cell_type": "code",
   "execution_count": 2,
   "id": "cb24cb4b",
   "metadata": {
    "scrolled": true
   },
   "outputs": [],
   "source": [
    "df = pd.read_csv('merged_data_with_total_agb_converted.csv')#load merged_data_with_total_agb_converted dataset"
   ]
  },
  {
   "cell_type": "code",
   "execution_count": 3,
   "id": "565e9ca3",
   "metadata": {},
   "outputs": [],
   "source": [
    "X = df[['species','aerial_data_height','area']] #Features (removed 'Genus','Family','score',)\n",
    "y = df['agb'] #Target"
   ]
  },
  {
   "cell_type": "code",
   "execution_count": 4,
   "id": "29780298",
   "metadata": {},
   "outputs": [],
   "source": [
    "#OneHotEncoding of String Variables\n",
    "encoder = preprocessing.OneHotEncoder() #OneHotEncoder for all 'categorical' variables\n",
    "onehot = encoder.fit(X)\n",
    "X=onehot.transform(X)"
   ]
  },
  {
   "cell_type": "code",
   "execution_count": 5,
   "id": "b256cf86",
   "metadata": {},
   "outputs": [
    {
     "data": {
      "application/javascript": [
       "\n",
       "        if (window._pyforest_update_imports_cell) { window._pyforest_update_imports_cell('from sklearn.model_selection import train_test_split'); }\n",
       "    "
      ],
      "text/plain": [
       "<IPython.core.display.Javascript object>"
      ]
     },
     "metadata": {},
     "output_type": "display_data"
    }
   ],
   "source": [
    "X_train, X_test, Y_train, Y_test = train_test_split(X, y, test_size=0.3)"
   ]
  },
  {
   "cell_type": "markdown",
   "id": "e717769d",
   "metadata": {},
   "source": [
    "### XGBoost Initial Model Definitions"
   ]
  },
  {
   "cell_type": "code",
   "execution_count": 6,
   "id": "140a5653",
   "metadata": {},
   "outputs": [],
   "source": [
    "# Unsupervised Regression Predictor with default settings on GPU\n",
    "predictor = xgb.XGBRegressor(tree_method='gpu_hist')\n",
    "steps = 50  # number of training iterations"
   ]
  },
  {
   "cell_type": "markdown",
   "id": "755b06e2",
   "metadata": {},
   "source": [
    "### XGBoost Initial Model Training and Testing"
   ]
  },
  {
   "cell_type": "code",
   "execution_count": 7,
   "id": "80d17c26",
   "metadata": {},
   "outputs": [],
   "source": [
    "model = predictor.fit(X_train, Y_train,eval_set=[(X_test, Y_test)], verbose=False)\n",
    "Y_train_pred = model.predict(X_train)\n",
    "Y_pred = model.predict(X_test)"
   ]
  },
  {
   "cell_type": "code",
   "execution_count": 8,
   "id": "44c819da",
   "metadata": {},
   "outputs": [
    {
     "data": {
      "text/plain": [
       "XGBRegressor(base_score=0.5, booster='gbtree', colsample_bylevel=1,\n",
       "             colsample_bynode=1, colsample_bytree=1, gamma=0, gpu_id=0,\n",
       "             importance_type='gain', interaction_constraints='',\n",
       "             learning_rate=0.300000012, max_delta_step=0, max_depth=6,\n",
       "             min_child_weight=1, missing=nan, monotone_constraints='()',\n",
       "             n_estimators=100, n_jobs=12, num_parallel_tree=1, random_state=0,\n",
       "             reg_alpha=0, reg_lambda=1, scale_pos_weight=1, subsample=1,\n",
       "             tree_method='gpu_hist', validate_parameters=1, verbosity=None)"
      ]
     },
     "execution_count": 8,
     "metadata": {},
     "output_type": "execute_result"
    }
   ],
   "source": [
    "model"
   ]
  },
  {
   "cell_type": "markdown",
   "id": "e749e0d2",
   "metadata": {},
   "source": [
    "### XGBoost Initial Model Results"
   ]
  },
  {
   "cell_type": "code",
   "execution_count": 9,
   "id": "3be179e2",
   "metadata": {},
   "outputs": [
    {
     "name": "stdout",
     "output_type": "stream",
     "text": [
      "Train r2 score:  0.7361768792805197\n",
      "Test r2 score:  0.42972132820109077\n",
      "Train RMSE: 158096.0946\n",
      "Test RMSE: 280498.7584\n"
     ]
    }
   ],
   "source": [
    "print('Train r2 score: ', r2_score(Y_train_pred, Y_train))\n",
    "print('Test r2 score: ', r2_score(Y_test, Y_pred))\n",
    "train_mse = mean_squared_error(Y_train_pred, Y_train)\n",
    "test_mse = mean_squared_error(Y_pred, Y_test)\n",
    "train_rmse = np.sqrt(train_mse)\n",
    "test_rmse = np.sqrt(test_mse)\n",
    "print('Train RMSE: %.4f' % train_rmse)\n",
    "print('Test RMSE: %.4f' % test_rmse)"
   ]
  },
  {
   "cell_type": "markdown",
   "id": "9f3710fd",
   "metadata": {},
   "source": [
    "### XGBoost Hyperparameter Tuning"
   ]
  },
  {
   "cell_type": "code",
   "execution_count": 10,
   "id": "c1fddb45",
   "metadata": {},
   "outputs": [
    {
     "data": {
      "text/plain": [
       "['accuracy',\n",
       " 'adjusted_mutual_info_score',\n",
       " 'adjusted_rand_score',\n",
       " 'average_precision',\n",
       " 'balanced_accuracy',\n",
       " 'completeness_score',\n",
       " 'explained_variance',\n",
       " 'f1',\n",
       " 'f1_macro',\n",
       " 'f1_micro',\n",
       " 'f1_samples',\n",
       " 'f1_weighted',\n",
       " 'fowlkes_mallows_score',\n",
       " 'homogeneity_score',\n",
       " 'jaccard',\n",
       " 'jaccard_macro',\n",
       " 'jaccard_micro',\n",
       " 'jaccard_samples',\n",
       " 'jaccard_weighted',\n",
       " 'max_error',\n",
       " 'mutual_info_score',\n",
       " 'neg_brier_score',\n",
       " 'neg_log_loss',\n",
       " 'neg_mean_absolute_error',\n",
       " 'neg_mean_absolute_percentage_error',\n",
       " 'neg_mean_gamma_deviance',\n",
       " 'neg_mean_poisson_deviance',\n",
       " 'neg_mean_squared_error',\n",
       " 'neg_mean_squared_log_error',\n",
       " 'neg_median_absolute_error',\n",
       " 'neg_root_mean_squared_error',\n",
       " 'normalized_mutual_info_score',\n",
       " 'precision',\n",
       " 'precision_macro',\n",
       " 'precision_micro',\n",
       " 'precision_samples',\n",
       " 'precision_weighted',\n",
       " 'r2',\n",
       " 'rand_score',\n",
       " 'recall',\n",
       " 'recall_macro',\n",
       " 'recall_micro',\n",
       " 'recall_samples',\n",
       " 'recall_weighted',\n",
       " 'roc_auc',\n",
       " 'roc_auc_ovo',\n",
       " 'roc_auc_ovo_weighted',\n",
       " 'roc_auc_ovr',\n",
       " 'roc_auc_ovr_weighted',\n",
       " 'top_k_accuracy',\n",
       " 'v_measure_score']"
      ]
     },
     "execution_count": 10,
     "metadata": {},
     "output_type": "execute_result"
    }
   ],
   "source": [
    "sorted(sklearn.metrics.SCORERS.keys())"
   ]
  },
  {
   "cell_type": "code",
   "execution_count": null,
   "id": "c6e339eb",
   "metadata": {
    "run_control": {
     "marked": false
    }
   },
   "outputs": [],
   "source": [
    "predictor = xgb.XGBRegressor()\n",
    "parameters = {\n",
    "    'eta': [0.05, 0.10, 0.15, 0.20, 0.25, 0.30],  # learning rates\n",
    "    'n_estimators': [100, 200, 300, 500, 800, 1300, 2100],#Number of gradient boosted trees\n",
    "    'max_depth': [3, 5, 8, 13, 21],#Maximum tree depth for base learners\n",
    "    'gamma': [0.0, 0.1, 0.2, 0.3, 0.4],#Minimum loss reduction required to make a further partition \n",
    "    'min_child_weight': [1, 2, 3, 5, 8],#Minimum sum of instance weight\n",
    "    'colsample_bytree' : [0.1, 0.2, 0.3, 0.5, 0.8]#Subsample ratio of columns when constructing each tree\n",
    "}\n",
    "\n",
    "grid = GridSearchCV(predictor, parameters, n_jobs=6, scoring='accuracy', cv=5)\n",
    "grid.fit(X_train, Y_train)\n",
    "grid.best_estimator_"
   ]
  },
  {
   "cell_type": "code",
   "execution_count": 71,
   "id": "9f1e05e6",
   "metadata": {},
   "outputs": [
    {
     "data": {
      "text/plain": [
       "XGBRegressor(base_score=0.5, booster='gbtree', colsample_bylevel=1,\n",
       "             colsample_bynode=1, colsample_bytree=0.1, eta=0.05, gamma=0.0,\n",
       "             gpu_id=-1, importance_type='gain', interaction_constraints='',\n",
       "             learning_rate=0.0500000007, max_delta_step=0, max_depth=3,\n",
       "             min_child_weight=1, missing=nan, monotone_constraints='()',\n",
       "             n_estimators=100, n_jobs=12, num_parallel_tree=1, random_state=0,\n",
       "             reg_alpha=0, reg_lambda=1, scale_pos_weight=1, subsample=1,\n",
       "             tree_method='exact', validate_parameters=1, verbosity=None)"
      ]
     },
     "execution_count": 71,
     "metadata": {},
     "output_type": "execute_result"
    }
   ],
   "source": [
    "grid.best_estimator_"
   ]
  },
  {
   "cell_type": "markdown",
   "id": "1737f31b",
   "metadata": {},
   "source": [
    "### Model  Results after Tuning"
   ]
  },
  {
   "cell_type": "code",
   "execution_count": null,
   "id": "67f9cc8a",
   "metadata": {
    "scrolled": true
   },
   "outputs": [],
   "source": [
    "tuned_model = XGBRegressor(base_score=0.5, booster='gbtree', colsample_bylevel=1,\n",
    "             colsample_bynode=1, colsample_bytree=0.1, eta=0.05, gamma=0.0,\n",
    "             gpu_id=-1, importance_type='gain', interaction_constraints='',\n",
    "             learning_rate=0.0500000007, max_delta_step=0, max_depth=3,\n",
    "             min_child_weight=1,monotone_constraints='()',\n",
    "             n_estimators=100, n_jobs=12, num_parallel_tree=1, random_state=0,\n",
    "             reg_alpha=0, reg_lambda=1, scale_pos_weight=1, subsample=1,\n",
    "             tree_method='exact', validate_parameters=1, verbosity=None)\n",
    "tuned_model.fit(X_train, Y_train,  \n",
    "             eval_set=[(X_test, Y_test)], verbose=False)\n",
    "Y_train_pred = tuned_model.predict(X_train)\n",
    "Y_pred = tuned_model.predict(X_test)"
   ]
  },
  {
   "cell_type": "markdown",
   "id": "60f7a31c",
   "metadata": {},
   "source": [
    "### Evaluation of Model"
   ]
  },
  {
   "cell_type": "code",
   "execution_count": null,
   "id": "3e996379",
   "metadata": {},
   "outputs": [],
   "source": [
    "#predictions = model.predict(D_test) predictions was changed to Y_pred\n",
    "best_predictions = np.asarray([np.argmax(line) for line in Y_pred])\n",
    "print(\"Precision = {}\".format(precision_score(Y_test, best_predictions, average='macro')))\n",
    "print(\"Recall = {}\".format(recall_score(Y_test, best_predictions, average='macro')))\n",
    "print(\"Accuracy = {}\".format(accuracy_score(Y_test, best_predictions)))"
   ]
  },
  {
   "cell_type": "code",
   "execution_count": 77,
   "id": "298af1d9",
   "metadata": {
    "scrolled": true
   },
   "outputs": [
    {
     "name": "stdout",
     "output_type": "stream",
     "text": [
      "Train r2 score:  -1.4263773959185508\n",
      "Test r2 score:  0.24504685232265455\n",
      "Train RMSE: 184763.2089\n",
      "Test RMSE: 234827.0653\n"
     ]
    }
   ],
   "source": [
    "print('Train r2 score: ', r2_score(Y_train_pred, Y_train))\n",
    "print('Test r2 score: ', r2_score(Y_test, Y_pred))\n",
    "train_mse = mean_squared_error(Y_train_pred, Y_train)\n",
    "test_mse = mean_squared_error(Y_pred, Y_test)\n",
    "train_rmse = np.sqrt(train_mse)\n",
    "test_rmse = np.sqrt(test_mse)\n",
    "print('Train RMSE: %.4f' % train_rmse)\n",
    "print('Test RMSE: %.4f' % test_rmse)"
   ]
  }
 ],
 "metadata": {
  "kernelspec": {
   "display_name": "Python 3 (ipykernel)",
   "language": "python",
   "name": "python3"
  },
  "language_info": {
   "codemirror_mode": {
    "name": "ipython",
    "version": 3
   },
   "file_extension": ".py",
   "mimetype": "text/x-python",
   "name": "python",
   "nbconvert_exporter": "python",
   "pygments_lexer": "ipython3",
   "version": "3.9.7"
  },
  "latex_envs": {
   "LaTeX_envs_menu_present": true,
   "autoclose": false,
   "autocomplete": true,
   "bibliofile": "biblio.bib",
   "cite_by": "apalike",
   "current_citInitial": 1,
   "eqLabelWithNumbers": true,
   "eqNumInitial": 1,
   "hotkeys": {
    "equation": "Ctrl-E",
    "itemize": "Ctrl-I"
   },
   "labels_anchors": false,
   "latex_user_defs": false,
   "report_style_numbering": false,
   "user_envs_cfg": false
  },
  "varInspector": {
   "cols": {
    "lenName": 16,
    "lenType": 16,
    "lenVar": 40
   },
   "kernels_config": {
    "python": {
     "delete_cmd_postfix": "",
     "delete_cmd_prefix": "del ",
     "library": "var_list.py",
     "varRefreshCmd": "print(var_dic_list())"
    },
    "r": {
     "delete_cmd_postfix": ") ",
     "delete_cmd_prefix": "rm(",
     "library": "var_list.r",
     "varRefreshCmd": "cat(var_dic_list()) "
    }
   },
   "types_to_exclude": [
    "module",
    "function",
    "builtin_function_or_method",
    "instance",
    "_Feature"
   ],
   "window_display": false
  }
 },
 "nbformat": 4,
 "nbformat_minor": 5
}
